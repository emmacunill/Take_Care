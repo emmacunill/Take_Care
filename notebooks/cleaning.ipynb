{
 "cells": [
  {
   "cell_type": "code",
   "execution_count": 1,
   "metadata": {},
   "outputs": [],
   "source": [
    "import shutil\n",
    "import os\n",
    "import zipfile\n",
    "import re"
   ]
  },
  {
   "cell_type": "markdown",
   "metadata": {},
   "source": [
    "# **CLEANING** #"
   ]
  },
  {
   "cell_type": "markdown",
   "metadata": {},
   "source": [
    "First of all we need to automatize the process of getting the csv. Because it's a zip file from downloads, then we need to unzip it. We get a txt file. We need to transform that into csv, change the name and put it into the data folder of the project. We also need to spot all the zip files because we don't want to be entering name by name as we're going to have houndreds of datasets."
   ]
  },
  {
   "cell_type": "code",
   "execution_count": 39,
   "metadata": {},
   "outputs": [],
   "source": [
    "\n",
    "def process_all_zip_files():\n",
    "\n",
    "    ''' Function to get a list of all the zip files in downloads and apply it the process zip file function.'''\n",
    "\n",
    "    # Set the path to the Downloads folder\n",
    "    downloads_folder = '/Users/emma/Downloads'\n",
    "\n",
    "    # Set the destination folder\n",
    "    destination_folder = '../data/'\n",
    "\n",
    "    # List all files in the Downloads folder\n",
    "    all_files = os.listdir(downloads_folder)\n",
    "\n",
    "    # Filter files with a .zip extension\n",
    "    zip_files = [file for file in all_files if file.endswith('.zip')]\n",
    "\n",
    "    # Process each ZIP file\n",
    "    for zip_file in zip_files:\n",
    "        zip_file_path = os.path.join(downloads_folder, zip_file)\n",
    "        process_zip_file(zip_file_path, destination_folder)\n",
    "\n",
    "def process_zip_file(zip_file_path, destination_folder):\n",
    "\n",
    "    '''Function to move the zip file from the os.list to the data folder on my project.\n",
    "    Create a csv file extracting the second element of the zip file name, splitting by the -.\n",
    "    Finally remove the initial zip file and the txt file'''\n",
    "\n",
    "    # Move the ZIP file to the destination folder\n",
    "    shutil.move(zip_file_path, destination_folder)\n",
    "\n",
    "    # Unzip the file\n",
    "    zip_file_base_name = os.path.splitext(os.path.basename(zip_file_path))[0]\n",
    "    with zipfile.ZipFile(os.path.join(destination_folder, f\"{zip_file_base_name}.zip\"), 'r') as zip_ref:\n",
    "        zip_ref.extractall(destination_folder)\n",
    "\n",
    "    # Convert the txt file to CSV\n",
    "    txt_file = '_chat.txt'\n",
    "    csv_file_name = '_chat.csv'\n",
    "    with open(os.path.join(destination_folder, txt_file), 'r') as txt_file:\n",
    "        content = txt_file.read()\n",
    "\n",
    "    # Use a different variable name for the CSV file handle\n",
    "    with open(os.path.join(destination_folder, csv_file_name), 'w') as csv_file:\n",
    "        csv_file.write(content)\n",
    "\n",
    "    # Rename the CSV file using underscores instead of spaces\n",
    "    csv_file_path = os.path.join(destination_folder, csv_file_name)\n",
    "    zip_name = os.path.basename(zip_file_path)\n",
    "    nombre = zip_name.split(\"-\")[1].split(\".\")[0].strip().replace(\" \", \"_\")\n",
    "    new_name = f'{nombre}.csv'\n",
    "    new_csv_file_path = os.path.join(destination_folder, new_name)\n",
    "    os.rename(csv_file_path, new_csv_file_path)\n",
    "\n",
    "    #Delete the zip and txt file\n",
    "    os.remove(os.path.join(destination_folder, f\"{zip_file_base_name}.zip\"))\n",
    "    os.remove(os.path.join(destination_folder, '_chat.txt'))\n",
    "\n",
    "    \n",
    "process_all_zip_files()\n"
   ]
  },
  {
   "cell_type": "code",
   "execution_count": null,
   "metadata": {},
   "outputs": [],
   "source": []
  }
 ],
 "metadata": {
  "kernelspec": {
   "display_name": "ironhack",
   "language": "python",
   "name": "python3"
  },
  "language_info": {
   "codemirror_mode": {
    "name": "ipython",
    "version": 3
   },
   "file_extension": ".py",
   "mimetype": "text/x-python",
   "name": "python",
   "nbconvert_exporter": "python",
   "pygments_lexer": "ipython3",
   "version": "3.11.5"
  }
 },
 "nbformat": 4,
 "nbformat_minor": 2
}

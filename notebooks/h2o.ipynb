{
 "cells": [
  {
   "cell_type": "code",
   "execution_count": 26,
   "metadata": {},
   "outputs": [],
   "source": [
    "import pandas as pd\n",
    "import numpy as np\n",
    "from matplotlib import pyplot as plt\n",
    "from sklearn.metrics import roc_curve\n",
    "from sklearn.metrics import auc\n",
    "from sklearn.model_selection import train_test_split\n",
    "\n",
    "import h2o\n",
    "from h2o.automl import H2OAutoML\n",
    "#from tqdm import tqdm"
   ]
  },
  {
   "cell_type": "code",
   "execution_count": 27,
   "metadata": {},
   "outputs": [
    {
     "name": "stdout",
     "output_type": "stream",
     "text": [
      "Checking whether there is an H2O instance running at http://localhost:54321. connected.\n",
      "Attempting to start a local H2O server...\n",
      "  Java Version: java version \"1.8.0_391\"; Java(TM) SE Runtime Environment (build 1.8.0_391-b13); Java HotSpot(TM) 64-Bit Server VM (build 25.391-b13, mixed mode)\n",
      "  Starting server from /Users/emma/miniconda3/envs/h20/lib/python3.11/site-packages/h2o/backend/bin/h2o.jar\n",
      "  Ice root: /var/folders/ns/rjvmq7zn3cggtjmkkj8bhfsc0000gn/T/tmp_1omekrv\n",
      "  JVM stdout: /var/folders/ns/rjvmq7zn3cggtjmkkj8bhfsc0000gn/T/tmp_1omekrv/h2o_emma_started_from_python.out\n",
      "  JVM stderr: /var/folders/ns/rjvmq7zn3cggtjmkkj8bhfsc0000gn/T/tmp_1omekrv/h2o_emma_started_from_python.err\n",
      "  Server is running at http://127.0.0.1:54325\n",
      "Connecting to H2O server at http://127.0.0.1:54325 ... successful.\n",
      "Warning: Your H2O cluster version is (7 months and 3 days) old.  There may be a newer version available.\n",
      "Please download and install the latest version from: https://h2o-release.s3.amazonaws.com/h2o/latest_stable.html\n"
     ]
    },
    {
     "data": {
      "text/html": [
       "\n",
       "<style>\n",
       "\n",
       "#h2o-table-2.h2o-container {\n",
       "  overflow-x: auto;\n",
       "}\n",
       "#h2o-table-2 .h2o-table {\n",
       "  /* width: 100%; */\n",
       "  margin-top: 1em;\n",
       "  margin-bottom: 1em;\n",
       "}\n",
       "#h2o-table-2 .h2o-table caption {\n",
       "  white-space: nowrap;\n",
       "  caption-side: top;\n",
       "  text-align: left;\n",
       "  /* margin-left: 1em; */\n",
       "  margin: 0;\n",
       "  font-size: larger;\n",
       "}\n",
       "#h2o-table-2 .h2o-table thead {\n",
       "  white-space: nowrap; \n",
       "  position: sticky;\n",
       "  top: 0;\n",
       "  box-shadow: 0 -1px inset;\n",
       "}\n",
       "#h2o-table-2 .h2o-table tbody {\n",
       "  overflow: auto;\n",
       "}\n",
       "#h2o-table-2 .h2o-table th,\n",
       "#h2o-table-2 .h2o-table td {\n",
       "  text-align: right;\n",
       "  /* border: 1px solid; */\n",
       "}\n",
       "#h2o-table-2 .h2o-table tr:nth-child(even) {\n",
       "  /* background: #F5F5F5 */\n",
       "}\n",
       "\n",
       "</style>      \n",
       "<div id=\"h2o-table-2\" class=\"h2o-container\">\n",
       "  <table class=\"h2o-table\">\n",
       "    <caption></caption>\n",
       "    <thead></thead>\n",
       "    <tbody><tr><td>H2O_cluster_uptime:</td>\n",
       "<td>02 secs</td></tr>\n",
       "<tr><td>H2O_cluster_timezone:</td>\n",
       "<td>Europe/Madrid</td></tr>\n",
       "<tr><td>H2O_data_parsing_timezone:</td>\n",
       "<td>UTC</td></tr>\n",
       "<tr><td>H2O_cluster_version:</td>\n",
       "<td>3.40.0.4</td></tr>\n",
       "<tr><td>H2O_cluster_version_age:</td>\n",
       "<td>7 months and 3 days</td></tr>\n",
       "<tr><td>H2O_cluster_name:</td>\n",
       "<td>H2O_from_python_emma_i5pd5x</td></tr>\n",
       "<tr><td>H2O_cluster_total_nodes:</td>\n",
       "<td>1</td></tr>\n",
       "<tr><td>H2O_cluster_free_memory:</td>\n",
       "<td>1.770 Gb</td></tr>\n",
       "<tr><td>H2O_cluster_total_cores:</td>\n",
       "<td>8</td></tr>\n",
       "<tr><td>H2O_cluster_allowed_cores:</td>\n",
       "<td>8</td></tr>\n",
       "<tr><td>H2O_cluster_status:</td>\n",
       "<td>locked, healthy</td></tr>\n",
       "<tr><td>H2O_connection_url:</td>\n",
       "<td>http://127.0.0.1:54325</td></tr>\n",
       "<tr><td>H2O_connection_proxy:</td>\n",
       "<td>{\"http\": null, \"https\": null}</td></tr>\n",
       "<tr><td>H2O_internal_security:</td>\n",
       "<td>False</td></tr>\n",
       "<tr><td>Python_version:</td>\n",
       "<td>3.11.5 final</td></tr></tbody>\n",
       "  </table>\n",
       "</div>\n"
      ],
      "text/plain": [
       "--------------------------  -----------------------------\n",
       "H2O_cluster_uptime:         02 secs\n",
       "H2O_cluster_timezone:       Europe/Madrid\n",
       "H2O_data_parsing_timezone:  UTC\n",
       "H2O_cluster_version:        3.40.0.4\n",
       "H2O_cluster_version_age:    7 months and 3 days\n",
       "H2O_cluster_name:           H2O_from_python_emma_i5pd5x\n",
       "H2O_cluster_total_nodes:    1\n",
       "H2O_cluster_free_memory:    1.770 Gb\n",
       "H2O_cluster_total_cores:    8\n",
       "H2O_cluster_allowed_cores:  8\n",
       "H2O_cluster_status:         locked, healthy\n",
       "H2O_connection_url:         http://127.0.0.1:54325\n",
       "H2O_connection_proxy:       {\"http\": null, \"https\": null}\n",
       "H2O_internal_security:      False\n",
       "Python_version:             3.11.5 final\n",
       "--------------------------  -----------------------------"
      ]
     },
     "metadata": {},
     "output_type": "display_data"
    }
   ],
   "source": [
    "h2o.init()"
   ]
  },
  {
   "cell_type": "code",
   "execution_count": 28,
   "metadata": {},
   "outputs": [
    {
     "data": {
      "text/html": [
       "<div>\n",
       "<style scoped>\n",
       "    .dataframe tbody tr th:only-of-type {\n",
       "        vertical-align: middle;\n",
       "    }\n",
       "\n",
       "    .dataframe tbody tr th {\n",
       "        vertical-align: top;\n",
       "    }\n",
       "\n",
       "    .dataframe thead th {\n",
       "        text-align: right;\n",
       "    }\n",
       "</style>\n",
       "<table border=\"1\" class=\"dataframe\">\n",
       "  <thead>\n",
       "    <tr style=\"text-align: right;\">\n",
       "      <th></th>\n",
       "      <th>Unnamed: 0</th>\n",
       "      <th>date</th>\n",
       "      <th>time</th>\n",
       "      <th>name</th>\n",
       "      <th>message</th>\n",
       "      <th>emotion</th>\n",
       "    </tr>\n",
       "  </thead>\n",
       "  <tbody>\n",
       "    <tr>\n",
       "      <th>0</th>\n",
       "      <td>0</td>\n",
       "      <td>2023-04-09</td>\n",
       "      <td>13:33:57</td>\n",
       "      <td>Em</td>\n",
       "      <td>Quan acabo et truco</td>\n",
       "      <td>12</td>\n",
       "    </tr>\n",
       "    <tr>\n",
       "      <th>1</th>\n",
       "      <td>1</td>\n",
       "      <td>2019-12-04</td>\n",
       "      <td>17:32:34</td>\n",
       "      <td>Em</td>\n",
       "      <td>Tia pero escucha haz abdominales si queires ha...</td>\n",
       "      <td>14</td>\n",
       "    </tr>\n",
       "    <tr>\n",
       "      <th>2</th>\n",
       "      <td>2</td>\n",
       "      <td>2020-06-16</td>\n",
       "      <td>17:12:10</td>\n",
       "      <td>Em</td>\n",
       "      <td>Si ara mateix</td>\n",
       "      <td>9</td>\n",
       "    </tr>\n",
       "    <tr>\n",
       "      <th>3</th>\n",
       "      <td>3</td>\n",
       "      <td>2018-08-07</td>\n",
       "      <td>15:10:52</td>\n",
       "      <td>Em</td>\n",
       "      <td>41577827Z</td>\n",
       "      <td>13</td>\n",
       "    </tr>\n",
       "    <tr>\n",
       "      <th>4</th>\n",
       "      <td>4</td>\n",
       "      <td>2019-03-10</td>\n",
       "      <td>10:57:46</td>\n",
       "      <td>Em</td>\n",
       "      <td>Ya me contaras como ha ido</td>\n",
       "      <td>10</td>\n",
       "    </tr>\n",
       "    <tr>\n",
       "      <th>...</th>\n",
       "      <td>...</td>\n",
       "      <td>...</td>\n",
       "      <td>...</td>\n",
       "      <td>...</td>\n",
       "      <td>...</td>\n",
       "      <td>...</td>\n",
       "    </tr>\n",
       "    <tr>\n",
       "      <th>993</th>\n",
       "      <td>995</td>\n",
       "      <td>2021-11-25</td>\n",
       "      <td>21:14:54</td>\n",
       "      <td>Em</td>\n",
       "      <td>Quina vidaaa!!! Estic same literal</td>\n",
       "      <td>8</td>\n",
       "    </tr>\n",
       "    <tr>\n",
       "      <th>994</th>\n",
       "      <td>996</td>\n",
       "      <td>2023-08-03</td>\n",
       "      <td>23:22:13</td>\n",
       "      <td>Em</td>\n",
       "      <td>Como ha ido tu diaa?</td>\n",
       "      <td>15</td>\n",
       "    </tr>\n",
       "    <tr>\n",
       "      <th>995</th>\n",
       "      <td>997</td>\n",
       "      <td>2020-07-02</td>\n",
       "      <td>13:38:15</td>\n",
       "      <td>Em</td>\n",
       "      <td>Okay</td>\n",
       "      <td>13</td>\n",
       "    </tr>\n",
       "    <tr>\n",
       "      <th>996</th>\n",
       "      <td>998</td>\n",
       "      <td>2021-02-02</td>\n",
       "      <td>20:54:18</td>\n",
       "      <td>Em</td>\n",
       "      <td>Etc</td>\n",
       "      <td>13</td>\n",
       "    </tr>\n",
       "    <tr>\n",
       "      <th>997</th>\n",
       "      <td>999</td>\n",
       "      <td>2022-06-23</td>\n",
       "      <td>19:03:07</td>\n",
       "      <td>Em</td>\n",
       "      <td>De camino a llança</td>\n",
       "      <td>6</td>\n",
       "    </tr>\n",
       "  </tbody>\n",
       "</table>\n",
       "<p>998 rows × 6 columns</p>\n",
       "</div>"
      ],
      "text/plain": [
       "     Unnamed: 0        date      time name  \\\n",
       "0             0  2023-04-09  13:33:57   Em   \n",
       "1             1  2019-12-04  17:32:34   Em   \n",
       "2             2  2020-06-16  17:12:10   Em   \n",
       "3             3  2018-08-07  15:10:52   Em   \n",
       "4             4  2019-03-10  10:57:46   Em   \n",
       "..          ...         ...       ...  ...   \n",
       "993         995  2021-11-25  21:14:54   Em   \n",
       "994         996  2023-08-03  23:22:13   Em   \n",
       "995         997  2020-07-02  13:38:15   Em   \n",
       "996         998  2021-02-02  20:54:18   Em   \n",
       "997         999  2022-06-23  19:03:07   Em   \n",
       "\n",
       "                                               message  emotion  \n",
       "0                                  Quan acabo et truco       12  \n",
       "1    Tia pero escucha haz abdominales si queires ha...       14  \n",
       "2                                        Si ara mateix        9  \n",
       "3                                            41577827Z       13  \n",
       "4                           Ya me contaras como ha ido       10  \n",
       "..                                                 ...      ...  \n",
       "993                 Quina vidaaa!!! Estic same literal        8  \n",
       "994                               Como ha ido tu diaa?       15  \n",
       "995                                               Okay       13  \n",
       "996                                                Etc       13  \n",
       "997                                 De camino a llança        6  \n",
       "\n",
       "[998 rows x 6 columns]"
      ]
     },
     "execution_count": 28,
     "metadata": {},
     "output_type": "execute_result"
    }
   ],
   "source": [
    "df = pd.read_csv(\"../data/translation/classified2.csv\", sep=\";\")\n",
    "#dfo = pd.read_csv(\"../data/translation/completo.csv\")\n",
    "df"
   ]
  },
  {
   "cell_type": "code",
   "execution_count": 29,
   "metadata": {},
   "outputs": [
    {
     "name": "stdout",
     "output_type": "stream",
     "text": [
      "Parse progress: |████████████████████████████████████████████████████████████████| (done) 100%\n",
      "Parse progress: |████████████████████████████████████████████████████████████████| (done) 100%\n"
     ]
    }
   ],
   "source": [
    "train, test = train_test_split(df, test_size=0.25, random_state=42)\n",
    "\n",
    "train = h2o.H2OFrame(train)\n",
    "test = h2o.H2OFrame(test)"
   ]
  },
  {
   "cell_type": "code",
   "execution_count": 30,
   "metadata": {},
   "outputs": [],
   "source": [
    "X = [\"message\"]\n",
    "y = \"emotion\""
   ]
  },
  {
   "cell_type": "code",
   "execution_count": 34,
   "metadata": {},
   "outputs": [],
   "source": [
    "train[y] = train[y].asfactor()\n",
    "test[y] = test[y].asfactor()"
   ]
  },
  {
   "cell_type": "code",
   "execution_count": 35,
   "metadata": {},
   "outputs": [
    {
     "name": "stdout",
     "output_type": "stream",
     "text": [
      "AutoML progress: |\n",
      "15:53:31.84: _train param, Dropping bad and constant columns: [message]\n",
      "15:53:31.85: _train param, Training data must have at least 2 features (incl. response).\n",
      "15:53:31.87: _train param, Dropping bad and constant columns: [message]\n",
      "15:53:31.87: _train param, Training data must have at least 2 features (incl. response).\n",
      "15:53:31.92: _train param, Dropping bad and constant columns: [message]\n",
      "15:53:31.92: _train param, Training data must have at least 2 features (incl. response).\n",
      "15:53:31.94: _train param, Dropping bad and constant columns: [message]\n",
      "15:53:31.95: _train param, Training data must have at least 2 features (incl. response).\n",
      "15:53:31.97: _train param, Dropping bad and constant columns: [message]\n",
      "15:53:31.97: _train param, Training data must have at least 2 features (incl. response).\n",
      "15:53:31.99: _train param, Dropping bad and constant columns: [message]\n",
      "15:53:31.99: _train param, Training data must have at least 2 features (incl. response).\n",
      "15:53:31.101: _train param, Dropping bad and constant columns: [message]\n",
      "15:53:31.101: _train param, Training data must have at least 2 features (incl. response).\n",
      "15:53:31.103: _train param, Dropping bad and constant columns: [message]\n",
      "15:53:31.103: _train param, Training data must have at least 2 features (incl. response).\n",
      "15:53:31.105: _train param, Dropping bad and constant columns: [message]\n",
      "15:53:31.105: _train param, Training data must have at least 2 features (incl. response).\n",
      "15:53:31.109: _train param, Dropping bad and constant columns: [message]\n",
      "15:53:31.109: _train param, Training data must have at least 2 features (incl. response).\n",
      "15:53:31.116: Empty leaderboard.\n",
      "AutoML was not able to build any model within a max runtime constraint of 0 seconds, you may want to increase this value before retrying.\n",
      "\n",
      " (failed)\n"
     ]
    },
    {
     "ename": "OSError",
     "evalue": "Job with key $03017f00000136d4ffffffff$_9a0db181b2dbab034d5185b42c35418c failed with an exception: water.exceptions.H2OAutoMLException: Aborting AutoML after too many consecutive model failures\nstacktrace: \nwater.exceptions.H2OAutoMLException: Aborting AutoML after too many consecutive model failures\n\tat ai.h2o.automl.AutoML.learn(AutoML.java:776)\n\tat ai.h2o.automl.AutoML.run(AutoML.java:494)\n\tat ai.h2o.automl.H2OJob$1.compute2(H2OJob.java:33)\n\tat water.H2O$H2OCountedCompleter.compute(H2O.java:1677)\n\tat jsr166y.CountedCompleter.exec(CountedCompleter.java:468)\n\tat jsr166y.ForkJoinTask.doExec(ForkJoinTask.java:263)\n\tat jsr166y.ForkJoinPool$WorkQueue.runTask(ForkJoinPool.java:976)\n\tat jsr166y.ForkJoinPool.runWorker(ForkJoinPool.java:1479)\n\tat jsr166y.ForkJoinWorkerThread.run(ForkJoinWorkerThread.java:104)\n",
     "output_type": "error",
     "traceback": [
      "\u001b[0;31m---------------------------------------------------------------------------\u001b[0m",
      "\u001b[0;31mOSError\u001b[0m                                   Traceback (most recent call last)",
      "\u001b[1;32m/Users/emma/Desktop/Emma/ironhack_data/projects/final_project/notebooks/h2o.ipynb Cell 7\u001b[0m line \u001b[0;36m3\n\u001b[1;32m      <a href='vscode-notebook-cell:/Users/emma/Desktop/Emma/ironhack_data/projects/final_project/notebooks/h2o.ipynb#X10sZmlsZQ%3D%3D?line=0'>1</a>\u001b[0m \u001b[39m# Run AutoML for 20 base models\u001b[39;00m\n\u001b[1;32m      <a href='vscode-notebook-cell:/Users/emma/Desktop/Emma/ironhack_data/projects/final_project/notebooks/h2o.ipynb#X10sZmlsZQ%3D%3D?line=1'>2</a>\u001b[0m automl \u001b[39m=\u001b[39m H2OAutoML(max_models\u001b[39m=\u001b[39m\u001b[39m4\u001b[39m, seed\u001b[39m=\u001b[39m\u001b[39m1\u001b[39m)\n\u001b[0;32m----> <a href='vscode-notebook-cell:/Users/emma/Desktop/Emma/ironhack_data/projects/final_project/notebooks/h2o.ipynb#X10sZmlsZQ%3D%3D?line=2'>3</a>\u001b[0m automl\u001b[39m.\u001b[39mtrain(x\u001b[39m=\u001b[39mX, y\u001b[39m=\u001b[39my, training_frame\u001b[39m=\u001b[39mtrain)\n\u001b[1;32m      <a href='vscode-notebook-cell:/Users/emma/Desktop/Emma/ironhack_data/projects/final_project/notebooks/h2o.ipynb#X10sZmlsZQ%3D%3D?line=4'>5</a>\u001b[0m \u001b[39m# View the AutoML Leaderboard\u001b[39;00m\n\u001b[1;32m      <a href='vscode-notebook-cell:/Users/emma/Desktop/Emma/ironhack_data/projects/final_project/notebooks/h2o.ipynb#X10sZmlsZQ%3D%3D?line=5'>6</a>\u001b[0m lb \u001b[39m=\u001b[39m automl\u001b[39m.\u001b[39mleaderboard\n",
      "File \u001b[0;32m~/miniconda3/envs/h20/lib/python3.11/site-packages/h2o/automl/_estimator.py:679\u001b[0m, in \u001b[0;36mH2OAutoML.train\u001b[0;34m(self, x, y, training_frame, fold_column, weights_column, validation_frame, leaderboard_frame, blending_frame)\u001b[0m\n\u001b[1;32m    677\u001b[0m poll_updates \u001b[39m=\u001b[39m ft\u001b[39m.\u001b[39mpartial(\u001b[39mself\u001b[39m\u001b[39m.\u001b[39m_poll_training_updates, verbosity\u001b[39m=\u001b[39m\u001b[39mself\u001b[39m\u001b[39m.\u001b[39m_verbosity, state\u001b[39m=\u001b[39m{})\n\u001b[1;32m    678\u001b[0m \u001b[39mtry\u001b[39;00m:\n\u001b[0;32m--> 679\u001b[0m     \u001b[39mself\u001b[39m\u001b[39m.\u001b[39m_job\u001b[39m.\u001b[39mpoll(poll_updates\u001b[39m=\u001b[39mpoll_updates)\n\u001b[1;32m    680\u001b[0m \u001b[39mfinally\u001b[39;00m:\n\u001b[1;32m    681\u001b[0m     poll_updates(\u001b[39mself\u001b[39m\u001b[39m.\u001b[39m_job, \u001b[39m1\u001b[39m)\n",
      "File \u001b[0;32m~/miniconda3/envs/h20/lib/python3.11/site-packages/h2o/job.py:90\u001b[0m, in \u001b[0;36mH2OJob.poll\u001b[0;34m(self, poll_updates)\u001b[0m\n\u001b[1;32m     88\u001b[0m \u001b[39mif\u001b[39;00m \u001b[39mself\u001b[39m\u001b[39m.\u001b[39mstatus \u001b[39m==\u001b[39m \u001b[39m\"\u001b[39m\u001b[39mFAILED\u001b[39m\u001b[39m\"\u001b[39m:\n\u001b[1;32m     89\u001b[0m     \u001b[39mif\u001b[39;00m (\u001b[39misinstance\u001b[39m(\u001b[39mself\u001b[39m\u001b[39m.\u001b[39mjob, \u001b[39mdict\u001b[39m)) \u001b[39mand\u001b[39;00m (\u001b[39m\"\u001b[39m\u001b[39mstacktrace\u001b[39m\u001b[39m\"\u001b[39m \u001b[39min\u001b[39;00m \u001b[39mlist\u001b[39m(\u001b[39mself\u001b[39m\u001b[39m.\u001b[39mjob)):\n\u001b[0;32m---> 90\u001b[0m         \u001b[39mraise\u001b[39;00m \u001b[39mEnvironmentError\u001b[39;00m(\u001b[39m\"\u001b[39m\u001b[39mJob with key \u001b[39m\u001b[39m{}\u001b[39;00m\u001b[39m failed with an exception: \u001b[39m\u001b[39m{}\u001b[39;00m\u001b[39m\\n\u001b[39;00m\u001b[39mstacktrace: \u001b[39m\u001b[39m\"\u001b[39m\n\u001b[1;32m     91\u001b[0m                                \u001b[39m\"\u001b[39m\u001b[39m\\n\u001b[39;00m\u001b[39m{}\u001b[39;00m\u001b[39m\"\u001b[39m\u001b[39m.\u001b[39mformat(\u001b[39mself\u001b[39m\u001b[39m.\u001b[39mjob_key, \u001b[39mself\u001b[39m\u001b[39m.\u001b[39mexception, \u001b[39mself\u001b[39m\u001b[39m.\u001b[39mjob[\u001b[39m\"\u001b[39m\u001b[39mstacktrace\u001b[39m\u001b[39m\"\u001b[39m]))\n\u001b[1;32m     92\u001b[0m     \u001b[39melse\u001b[39;00m:\n\u001b[1;32m     93\u001b[0m         \u001b[39mraise\u001b[39;00m \u001b[39mEnvironmentError\u001b[39;00m(\u001b[39m\"\u001b[39m\u001b[39mJob with key \u001b[39m\u001b[39m%s\u001b[39;00m\u001b[39m failed with an exception: \u001b[39m\u001b[39m%s\u001b[39;00m\u001b[39m\"\u001b[39m \u001b[39m%\u001b[39m (\u001b[39mself\u001b[39m\u001b[39m.\u001b[39mjob_key, \u001b[39mself\u001b[39m\u001b[39m.\u001b[39mexception))\n",
      "\u001b[0;31mOSError\u001b[0m: Job with key $03017f00000136d4ffffffff$_9a0db181b2dbab034d5185b42c35418c failed with an exception: water.exceptions.H2OAutoMLException: Aborting AutoML after too many consecutive model failures\nstacktrace: \nwater.exceptions.H2OAutoMLException: Aborting AutoML after too many consecutive model failures\n\tat ai.h2o.automl.AutoML.learn(AutoML.java:776)\n\tat ai.h2o.automl.AutoML.run(AutoML.java:494)\n\tat ai.h2o.automl.H2OJob$1.compute2(H2OJob.java:33)\n\tat water.H2O$H2OCountedCompleter.compute(H2O.java:1677)\n\tat jsr166y.CountedCompleter.exec(CountedCompleter.java:468)\n\tat jsr166y.ForkJoinTask.doExec(ForkJoinTask.java:263)\n\tat jsr166y.ForkJoinPool$WorkQueue.runTask(ForkJoinPool.java:976)\n\tat jsr166y.ForkJoinPool.runWorker(ForkJoinPool.java:1479)\n\tat jsr166y.ForkJoinWorkerThread.run(ForkJoinWorkerThread.java:104)\n"
     ]
    }
   ],
   "source": [
    "# Run AutoML for 20 base models\n",
    "automl = H2OAutoML(max_models=4, seed=1)\n",
    "automl.train(x=X, y=y, training_frame=train)\n",
    "\n",
    "# View the AutoML Leaderboard\n",
    "lb = automl.leaderboard\n",
    "lb.head(rows=lb.nrows)  # Print all rows instead of default (10 rows)\n",
    "lb"
   ]
  },
  {
   "cell_type": "code",
   "execution_count": 36,
   "metadata": {},
   "outputs": [
    {
     "ename": "H2OResponseError",
     "evalue": "Server error water.exceptions.H2OKeyNotFoundArgumentException:\n  Error: Object 'GBM_1_AutoML_1_20231201_150850' not found for argument: key\n  Request: GET /3/Models/GBM_1_AutoML_1_20231201_150850\n",
     "output_type": "error",
     "traceback": [
      "\u001b[0;31m---------------------------------------------------------------------------\u001b[0m",
      "\u001b[0;31mH2OResponseError\u001b[0m                          Traceback (most recent call last)",
      "\u001b[1;32m/Users/emma/Desktop/Emma/ironhack_data/projects/final_project/notebooks/h2o.ipynb Cell 8\u001b[0m line \u001b[0;36m1\n\u001b[0;32m----> <a href='vscode-notebook-cell:/Users/emma/Desktop/Emma/ironhack_data/projects/final_project/notebooks/h2o.ipynb#X11sZmlsZQ%3D%3D?line=0'>1</a>\u001b[0m m \u001b[39m=\u001b[39m h2o\u001b[39m.\u001b[39mget_model(\u001b[39m'\u001b[39m\u001b[39mGBM_1_AutoML_1_20231201_150850\u001b[39m\u001b[39m'\u001b[39m)\n\u001b[1;32m      <a href='vscode-notebook-cell:/Users/emma/Desktop/Emma/ironhack_data/projects/final_project/notebooks/h2o.ipynb#X11sZmlsZQ%3D%3D?line=1'>2</a>\u001b[0m m\n",
      "File \u001b[0;32m~/miniconda3/envs/h20/lib/python3.11/site-packages/h2o/h2o.py:1091\u001b[0m, in \u001b[0;36mget_model\u001b[0;34m(model_id)\u001b[0m\n\u001b[1;32m   1064\u001b[0m \u001b[39m\u001b[39m\u001b[39m\"\"\"\u001b[39;00m\n\u001b[1;32m   1065\u001b[0m \u001b[39mLoad a model from the server.\u001b[39;00m\n\u001b[1;32m   1066\u001b[0m \n\u001b[0;32m   (...)\u001b[0m\n\u001b[1;32m   1088\u001b[0m \u001b[39m>>> model2 = h2o.get_model(model.model_id)\u001b[39;00m\n\u001b[1;32m   1089\u001b[0m \u001b[39m\"\"\"\u001b[39;00m\n\u001b[1;32m   1090\u001b[0m assert_is_type(model_id, \u001b[39mstr\u001b[39m)\n\u001b[0;32m-> 1091\u001b[0m model_json \u001b[39m=\u001b[39m api(\u001b[39m\"\u001b[39m\u001b[39mGET /3/Models/\u001b[39m\u001b[39m%s\u001b[39;00m\u001b[39m\"\u001b[39m \u001b[39m%\u001b[39m model_id)[\u001b[39m\"\u001b[39m\u001b[39mmodels\u001b[39m\u001b[39m\"\u001b[39m][\u001b[39m0\u001b[39m]\n\u001b[1;32m   1092\u001b[0m algo \u001b[39m=\u001b[39m model_json[\u001b[39m\"\u001b[39m\u001b[39malgo\u001b[39m\u001b[39m\"\u001b[39m]\n\u001b[1;32m   1093\u001b[0m \u001b[39m# still some special handling for AutoEncoder: would be cleaner if we could get rid of this\u001b[39;00m\n",
      "File \u001b[0;32m~/miniconda3/envs/h20/lib/python3.11/site-packages/h2o/h2o.py:124\u001b[0m, in \u001b[0;36mapi\u001b[0;34m(endpoint, data, json, filename, save_to)\u001b[0m\n\u001b[1;32m    122\u001b[0m \u001b[39m# type checks are performed in H2OConnection class\u001b[39;00m\n\u001b[1;32m    123\u001b[0m _check_connection()\n\u001b[0;32m--> 124\u001b[0m \u001b[39mreturn\u001b[39;00m h2oconn\u001b[39m.\u001b[39mrequest(endpoint, data\u001b[39m=\u001b[39mdata, json\u001b[39m=\u001b[39mjson, filename\u001b[39m=\u001b[39mfilename, save_to\u001b[39m=\u001b[39msave_to)\n",
      "File \u001b[0;32m~/miniconda3/envs/h20/lib/python3.11/site-packages/h2o/backend/connection.py:499\u001b[0m, in \u001b[0;36mH2OConnection.request\u001b[0;34m(self, endpoint, data, json, filename, save_to)\u001b[0m\n\u001b[1;32m    497\u001b[0m         save_to \u001b[39m=\u001b[39m save_to(resp)\n\u001b[1;32m    498\u001b[0m     \u001b[39mself\u001b[39m\u001b[39m.\u001b[39m_log_end_transaction(start_time, resp)\n\u001b[0;32m--> 499\u001b[0m     \u001b[39mreturn\u001b[39;00m \u001b[39mself\u001b[39m\u001b[39m.\u001b[39m_process_response(resp, save_to)\n\u001b[1;32m    501\u001b[0m \u001b[39mexcept\u001b[39;00m (requests\u001b[39m.\u001b[39mexceptions\u001b[39m.\u001b[39mConnectionError, requests\u001b[39m.\u001b[39mexceptions\u001b[39m.\u001b[39mHTTPError) \u001b[39mas\u001b[39;00m e:\n\u001b[1;32m    502\u001b[0m     \u001b[39mif\u001b[39;00m \u001b[39mself\u001b[39m\u001b[39m.\u001b[39m_local_server \u001b[39mand\u001b[39;00m \u001b[39mnot\u001b[39;00m \u001b[39mself\u001b[39m\u001b[39m.\u001b[39m_local_server\u001b[39m.\u001b[39mis_running():\n",
      "File \u001b[0;32m~/miniconda3/envs/h20/lib/python3.11/site-packages/h2o/backend/connection.py:853\u001b[0m, in \u001b[0;36mH2OConnection._process_response\u001b[0;34m(response, save_to)\u001b[0m\n\u001b[1;32m    851\u001b[0m \u001b[39mif\u001b[39;00m status_code \u001b[39min\u001b[39;00m {\u001b[39m400\u001b[39m, \u001b[39m404\u001b[39m, \u001b[39m412\u001b[39m} \u001b[39mand\u001b[39;00m \u001b[39misinstance\u001b[39m(data, H2OErrorV3):\n\u001b[1;32m    852\u001b[0m     data\u001b[39m.\u001b[39mshow_stacktrace \u001b[39m=\u001b[39m \u001b[39mFalse\u001b[39;00m\n\u001b[0;32m--> 853\u001b[0m     \u001b[39mraise\u001b[39;00m H2OResponseError(data)\n\u001b[1;32m    855\u001b[0m \u001b[39m# Server errors (notably 500 = \"Server Error\")\u001b[39;00m\n\u001b[1;32m    856\u001b[0m \u001b[39m# Note that it is possible to receive valid H2OErrorV3 object in this case, however it merely means the server\u001b[39;00m\n\u001b[1;32m    857\u001b[0m \u001b[39m# did not provide the correct status code.\u001b[39;00m\n\u001b[1;32m    858\u001b[0m \u001b[39mraise\u001b[39;00m H2OServerError(\u001b[39m\"\u001b[39m\u001b[39mHTTP \u001b[39m\u001b[39m%d\u001b[39;00m\u001b[39m \u001b[39m\u001b[39m%s\u001b[39;00m\u001b[39m:\u001b[39m\u001b[39m\\n\u001b[39;00m\u001b[39m%s\u001b[39;00m\u001b[39m\"\u001b[39m \u001b[39m%\u001b[39m (status_code, response\u001b[39m.\u001b[39mreason, data))\n",
      "\u001b[0;31mH2OResponseError\u001b[0m: Server error water.exceptions.H2OKeyNotFoundArgumentException:\n  Error: Object 'GBM_1_AutoML_1_20231201_150850' not found for argument: key\n  Request: GET /3/Models/GBM_1_AutoML_1_20231201_150850\n"
     ]
    }
   ],
   "source": [
    "m = h2o.get_model('GBM_1_AutoML_1_20231201_150850')\n",
    "m"
   ]
  },
  {
   "cell_type": "code",
   "execution_count": null,
   "metadata": {},
   "outputs": [
    {
     "ename": "NameError",
     "evalue": "name 'm' is not defined",
     "output_type": "error",
     "traceback": [
      "\u001b[0;31m---------------------------------------------------------------------------\u001b[0m",
      "\u001b[0;31mNameError\u001b[0m                                 Traceback (most recent call last)",
      "\u001b[1;32m/Users/emma/Desktop/Emma/ironhack_data/projects/final_project/notebooks/h2o.ipynb Cell 9\u001b[0m line \u001b[0;36m1\n\u001b[0;32m----> <a href='vscode-notebook-cell:/Users/emma/Desktop/Emma/ironhack_data/projects/final_project/notebooks/h2o.ipynb#X14sZmlsZQ%3D%3D?line=0'>1</a>\u001b[0m model_path \u001b[39m=\u001b[39m h2o\u001b[39m.\u001b[39msave_model(model\u001b[39m=\u001b[39mm, path\u001b[39m=\u001b[39m\u001b[39m\"\u001b[39m\u001b[39mola\u001b[39m\u001b[39m\"\u001b[39m, force\u001b[39m=\u001b[39m\u001b[39mTrue\u001b[39;00m)\n\u001b[1;32m      <a href='vscode-notebook-cell:/Users/emma/Desktop/Emma/ironhack_data/projects/final_project/notebooks/h2o.ipynb#X14sZmlsZQ%3D%3D?line=1'>2</a>\u001b[0m saved_model \u001b[39m=\u001b[39m h2o\u001b[39m.\u001b[39mload_model(\u001b[39m\"\u001b[39m\u001b[39mola/GBM_1_AutoML_1_20231201_140102\u001b[39m\u001b[39m\"\u001b[39m)\n",
      "\u001b[0;31mNameError\u001b[0m: name 'm' is not defined"
     ]
    }
   ],
   "source": [
    "model_path = h2o.save_model(model=m, path=\"ola\", force=True)\n",
    "saved_model = h2o.load_model(\"ola/GBM_1_AutoML_1_20231201_140102\")"
   ]
  },
  {
   "cell_type": "code",
   "execution_count": 19,
   "metadata": {},
   "outputs": [
    {
     "data": {
      "text/plain": [
       "Unnamed: 0                      0\n",
       "date                   2023-04-09\n",
       "time                     13:33:57\n",
       "name                           Em\n",
       "message       Quan acabo et truco\n",
       "Name: 0, dtype: object"
      ]
     },
     "execution_count": 19,
     "metadata": {},
     "output_type": "execute_result"
    }
   ],
   "source": [
    "df.drop(columns=\"emotion\").iloc[0]"
   ]
  },
  {
   "cell_type": "code",
   "execution_count": 20,
   "metadata": {},
   "outputs": [
    {
     "name": "stdout",
     "output_type": "stream",
     "text": [
      "Parse progress: |████████████████████████████████████████████████████████████████| (done) 100%\n"
     ]
    },
    {
     "ename": "NameError",
     "evalue": "name 'saved_model' is not defined",
     "output_type": "error",
     "traceback": [
      "\u001b[0;31m---------------------------------------------------------------------------\u001b[0m",
      "\u001b[0;31mNameError\u001b[0m                                 Traceback (most recent call last)",
      "\u001b[1;32m/Users/emma/Desktop/Emma/ironhack_data/projects/final_project/notebooks/h2o.ipynb Cell 11\u001b[0m line \u001b[0;36m1\n\u001b[1;32m     <a href='vscode-notebook-cell:/Users/emma/Desktop/Emma/ironhack_data/projects/final_project/notebooks/h2o.ipynb#X22sZmlsZQ%3D%3D?line=10'>11</a>\u001b[0m to_predict \u001b[39m=\u001b[39m h2o\u001b[39m.\u001b[39mH2OFrame(X)\n\u001b[1;32m     <a href='vscode-notebook-cell:/Users/emma/Desktop/Emma/ironhack_data/projects/final_project/notebooks/h2o.ipynb#X22sZmlsZQ%3D%3D?line=12'>13</a>\u001b[0m \u001b[39m# 4. Predict\u001b[39;00m\n\u001b[0;32m---> <a href='vscode-notebook-cell:/Users/emma/Desktop/Emma/ironhack_data/projects/final_project/notebooks/h2o.ipynb#X22sZmlsZQ%3D%3D?line=13'>14</a>\u001b[0m y_pred \u001b[39m=\u001b[39m saved_model\u001b[39m.\u001b[39mpredict(to_predict)[\u001b[39m\"\u001b[39m\u001b[39mpredict\u001b[39m\u001b[39m\"\u001b[39m]\n\u001b[1;32m     <a href='vscode-notebook-cell:/Users/emma/Desktop/Emma/ironhack_data/projects/final_project/notebooks/h2o.ipynb#X22sZmlsZQ%3D%3D?line=15'>16</a>\u001b[0m y_pred_as_pandas \u001b[39m=\u001b[39m y_pred\u001b[39m.\u001b[39mas_data_frame()\n\u001b[1;32m     <a href='vscode-notebook-cell:/Users/emma/Desktop/Emma/ironhack_data/projects/final_project/notebooks/h2o.ipynb#X22sZmlsZQ%3D%3D?line=17'>18</a>\u001b[0m dfo[\u001b[39m\"\u001b[39m\u001b[39memotions\u001b[39m\u001b[39m\"\u001b[39m] \u001b[39m=\u001b[39m y_pred_as_pandas\n",
      "\u001b[0;31mNameError\u001b[0m: name 'saved_model' is not defined"
     ]
    }
   ],
   "source": [
    "# 1. Split\n",
    "dfo = pd.read_csv(\"../data/translation/completo.csv\")\n",
    "\n",
    "train, test = train_test_split(df, test_size=0.15, random_state=42)\n",
    "\n",
    "# 2. X & y\n",
    "X = dfo[[\"message\"]]\n",
    "y = None\n",
    "\n",
    "# 3. X, y: H20 objects\n",
    "to_predict = h2o.H2OFrame(X)\n",
    "\n",
    "# 4. Predict\n",
    "y_pred = saved_model.predict(to_predict)[\"predict\"]\n",
    "\n",
    "y_pred_as_pandas = y_pred.as_data_frame()\n",
    "\n",
    "dfo[\"emotions\"] = y_pred_as_pandas\n",
    "\"\"\"\n",
    "# 5. Results back to pandas\n",
    "to_predict_as_pandas = to_predict.as_data_frame()\n",
    "y_pred_as_pandas = y_pred.as_data_frame()\n",
    "\n",
    "print(list(to_predict_as_pandas))\n",
    "print(list(y_pred_as_pandas))\n",
    "\n",
    "# 6. Build df\n",
    "new_df = pd.DataFrame({\"message\": list(to_predict_as_pandas), \"predicted_emotion\": list(y_pred_as_pandas)})\n",
    "new_df\n",
    "\"\"\""
   ]
  },
  {
   "cell_type": "code",
   "execution_count": null,
   "metadata": {},
   "outputs": [],
   "source": [
    "emotions_2 = {1: 'sadness',\n",
    "                2: 'joy',\n",
    "                3: 'fear',\n",
    "                4: 'anger',\n",
    "                5: 'surprise',\n",
    "                6: 'defensive',\n",
    "                7: 'nostalgia',\n",
    "                8: 'hapiness',\n",
    "                9: 'stressed',\n",
    "                10: 'expectant',\n",
    "                11: 'insecure',\n",
    "                12: 'assertivity',\n",
    "                13: 'neutral',\n",
    "                14: 'excitement',\n",
    "                15: 'comprehensive',\n",
    "                16: 'helpless',\n",
    "                17: 'love',\n",
    "                18: 'deception',\n",
    "                19: 'doubtful',\n",
    "                20: 'picarona'}"
   ]
  },
  {
   "cell_type": "code",
   "execution_count": null,
   "metadata": {},
   "outputs": [],
   "source": [
    "dfo.emotions.value_counts()\n",
    "dfo[\"emotions_names\"] = dfo[\"emotions\"].map(emotions_2)\n",
    "dfo.to_csv(\"../data/final df/h2o2.csv\")"
   ]
  },
  {
   "cell_type": "code",
   "execution_count": null,
   "metadata": {},
   "outputs": [
    {
     "data": {
      "text/plain": [
       "emotions\n",
       "12    111803\n",
       "13      3260\n",
       "8       1863\n",
       "2        773\n",
       "17       246\n",
       "6        180\n",
       "15       129\n",
       "9        113\n",
       "19       106\n",
       "4         65\n",
       "14        49\n",
       "10        33\n",
       "1         26\n",
       "18        24\n",
       "11        20\n",
       "20        17\n",
       "5         14\n",
       "7         11\n",
       "3         11\n",
       "16         9\n",
       "Name: count, dtype: int64"
      ]
     },
     "execution_count": 37,
     "metadata": {},
     "output_type": "execute_result"
    }
   ],
   "source": [
    "dfo.emotions.value_counts()"
   ]
  },
  {
   "cell_type": "code",
   "execution_count": null,
   "metadata": {},
   "outputs": [],
   "source": []
  }
 ],
 "metadata": {
  "kernelspec": {
   "display_name": "h20",
   "language": "python",
   "name": "python3"
  },
  "language_info": {
   "codemirror_mode": {
    "name": "ipython",
    "version": 3
   },
   "file_extension": ".py",
   "mimetype": "text/x-python",
   "name": "python",
   "nbconvert_exporter": "python",
   "pygments_lexer": "ipython3",
   "version": "3.11.5"
  }
 },
 "nbformat": 4,
 "nbformat_minor": 2
}

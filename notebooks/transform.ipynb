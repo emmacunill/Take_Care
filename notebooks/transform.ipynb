{
 "cells": [
  {
   "cell_type": "code",
   "execution_count": 13,
   "metadata": {},
   "outputs": [],
   "source": [
    "import pandas as pd\n",
    "import seaborn as sns\n",
    "import matplotlib.pyplot as plt\n",
    "import plotly.express as px\n",
    "\n",
    "import math\n",
    "import numpy as np\n",
    "from collections import Counter\n",
    "from sklearn import metrics\n",
    "\n",
    "from sklearn.metrics import accuracy_score\n",
    "from sklearn.model_selection import train_test_split\n",
    "from sklearn.metrics import classification_report\n",
    "from sklearn.datasets import make_regression\n",
    "\n",
    "from sklearn.tree import DecisionTreeClassifier\n",
    "from sklearn.neighbors import KNeighborsClassifier\n",
    "\n",
    "from xgboost import XGBClassifier"
   ]
  },
  {
   "cell_type": "code",
   "execution_count": 2,
   "metadata": {},
   "outputs": [],
   "source": [
    "def final_df():\n",
    "    df = pd.read_csv(\"../data/final_df/boost.csv\")\n",
    "    df.drop(columns=\"Unnamed: 0\", inplace = True)\n",
    "    df = df[(df[\"message\"].str.lower() != \"\\u200eaudio \") & (df[\"message\"].str.lower() != \"\\u200evideo \")& (df[\"message\"].str.lower() != \"\\u200eimage \")]\n",
    "    df.reset_index(drop=True, inplace=True)\n",
    "    df['date'] = pd.to_datetime(df['date'])\n",
    "    df['time'] = pd.to_datetime(df['time'], format='%H:%M:%S').dt.time\n",
    "    df[\"emotions_names\"] = df[\"emotions_names\"].replace(\"hapiness\",\"happiness\")\n",
    "    df[\"emotions_names\"] = df[\"emotions_names\"].replace(\"deception\",\"disappointment\")\n",
    "    df.to_csv(\"../data/transformed_df/emsemotions.csv\")\n",
    "    return df"
   ]
  },
  {
   "cell_type": "code",
   "execution_count": 3,
   "metadata": {},
   "outputs": [
    {
     "data": {
      "text/html": [
       "<div>\n",
       "<style scoped>\n",
       "    .dataframe tbody tr th:only-of-type {\n",
       "        vertical-align: middle;\n",
       "    }\n",
       "\n",
       "    .dataframe tbody tr th {\n",
       "        vertical-align: top;\n",
       "    }\n",
       "\n",
       "    .dataframe thead th {\n",
       "        text-align: right;\n",
       "    }\n",
       "</style>\n",
       "<table border=\"1\" class=\"dataframe\">\n",
       "  <thead>\n",
       "    <tr style=\"text-align: right;\">\n",
       "      <th></th>\n",
       "      <th>date</th>\n",
       "      <th>time</th>\n",
       "      <th>name</th>\n",
       "      <th>message</th>\n",
       "      <th>emotions</th>\n",
       "      <th>emotions_names</th>\n",
       "    </tr>\n",
       "  </thead>\n",
       "  <tbody>\n",
       "    <tr>\n",
       "      <th>0</th>\n",
       "      <td>2017-04-18</td>\n",
       "      <td>23:45:15</td>\n",
       "      <td>Em</td>\n",
       "      <td>A saludarte</td>\n",
       "      <td>8</td>\n",
       "      <td>happiness</td>\n",
       "    </tr>\n",
       "    <tr>\n",
       "      <th>1</th>\n",
       "      <td>2017-04-18</td>\n",
       "      <td>23:47:58</td>\n",
       "      <td>Em</td>\n",
       "      <td>Es que aún tengo que comer</td>\n",
       "      <td>8</td>\n",
       "      <td>happiness</td>\n",
       "    </tr>\n",
       "    <tr>\n",
       "      <th>2</th>\n",
       "      <td>2017-04-18</td>\n",
       "      <td>23:48:53</td>\n",
       "      <td>Em</td>\n",
       "      <td>Okaaaay</td>\n",
       "      <td>8</td>\n",
       "      <td>happiness</td>\n",
       "    </tr>\n",
       "    <tr>\n",
       "      <th>3</th>\n",
       "      <td>2017-04-18</td>\n",
       "      <td>23:49:14</td>\n",
       "      <td>Em</td>\n",
       "      <td>Teee amo</td>\n",
       "      <td>8</td>\n",
       "      <td>happiness</td>\n",
       "    </tr>\n",
       "    <tr>\n",
       "      <th>4</th>\n",
       "      <td>2017-04-18</td>\n",
       "      <td>23:49:49</td>\n",
       "      <td>Em</td>\n",
       "      <td>Nos vemos luego</td>\n",
       "      <td>8</td>\n",
       "      <td>happiness</td>\n",
       "    </tr>\n",
       "    <tr>\n",
       "      <th>...</th>\n",
       "      <td>...</td>\n",
       "      <td>...</td>\n",
       "      <td>...</td>\n",
       "      <td>...</td>\n",
       "      <td>...</td>\n",
       "      <td>...</td>\n",
       "    </tr>\n",
       "    <tr>\n",
       "      <th>95109</th>\n",
       "      <td>2023-11-27</td>\n",
       "      <td>15:11:36</td>\n",
       "      <td>Em</td>\n",
       "      <td>https://email.ionos.es/appsuite/help/l10n/es_E...</td>\n",
       "      <td>13</td>\n",
       "      <td>neutral</td>\n",
       "    </tr>\n",
       "    <tr>\n",
       "      <th>95110</th>\n",
       "      <td>2023-11-27</td>\n",
       "      <td>15:11:59</td>\n",
       "      <td>Em</td>\n",
       "      <td>Aquí lambe</td>\n",
       "      <td>8</td>\n",
       "      <td>happiness</td>\n",
       "    </tr>\n",
       "    <tr>\n",
       "      <th>95111</th>\n",
       "      <td>2023-11-27</td>\n",
       "      <td>15:12:01</td>\n",
       "      <td>Em</td>\n",
       "      <td>https://www.ionos.mx/ayuda/e-mail/glosario-exp...</td>\n",
       "      <td>13</td>\n",
       "      <td>neutral</td>\n",
       "    </tr>\n",
       "    <tr>\n",
       "      <th>95112</th>\n",
       "      <td>2023-11-27</td>\n",
       "      <td>15:13:08</td>\n",
       "      <td>Em</td>\n",
       "      <td>Aquest crec que es el mes clar:</td>\n",
       "      <td>9</td>\n",
       "      <td>stressed</td>\n",
       "    </tr>\n",
       "    <tr>\n",
       "      <th>95113</th>\n",
       "      <td>2023-11-27</td>\n",
       "      <td>15:15:55</td>\n",
       "      <td>Em</td>\n",
       "      <td>No n’hi ha cap que sem vegi pixelada</td>\n",
       "      <td>11</td>\n",
       "      <td>insecure</td>\n",
       "    </tr>\n",
       "  </tbody>\n",
       "</table>\n",
       "<p>95114 rows × 6 columns</p>\n",
       "</div>"
      ],
      "text/plain": [
       "            date      time name  \\\n",
       "0     2017-04-18  23:45:15   Em   \n",
       "1     2017-04-18  23:47:58   Em   \n",
       "2     2017-04-18  23:48:53   Em   \n",
       "3     2017-04-18  23:49:14   Em   \n",
       "4     2017-04-18  23:49:49   Em   \n",
       "...          ...       ...  ...   \n",
       "95109 2023-11-27  15:11:36   Em   \n",
       "95110 2023-11-27  15:11:59   Em   \n",
       "95111 2023-11-27  15:12:01   Em   \n",
       "95112 2023-11-27  15:13:08   Em   \n",
       "95113 2023-11-27  15:15:55   Em   \n",
       "\n",
       "                                                 message  emotions  \\\n",
       "0                                            A saludarte         8   \n",
       "1                             Es que aún tengo que comer         8   \n",
       "2                                                Okaaaay         8   \n",
       "3                                               Teee amo         8   \n",
       "4                                        Nos vemos luego         8   \n",
       "...                                                  ...       ...   \n",
       "95109  https://email.ionos.es/appsuite/help/l10n/es_E...        13   \n",
       "95110                                         Aquí lambe         8   \n",
       "95111  https://www.ionos.mx/ayuda/e-mail/glosario-exp...        13   \n",
       "95112                    Aquest crec que es el mes clar:         9   \n",
       "95113               No n’hi ha cap que sem vegi pixelada        11   \n",
       "\n",
       "      emotions_names  \n",
       "0          happiness  \n",
       "1          happiness  \n",
       "2          happiness  \n",
       "3          happiness  \n",
       "4          happiness  \n",
       "...              ...  \n",
       "95109        neutral  \n",
       "95110      happiness  \n",
       "95111        neutral  \n",
       "95112       stressed  \n",
       "95113       insecure  \n",
       "\n",
       "[95114 rows x 6 columns]"
      ]
     },
     "execution_count": 3,
     "metadata": {},
     "output_type": "execute_result"
    }
   ],
   "source": [
    "df = final_df()\n",
    "df"
   ]
  },
  {
   "cell_type": "code",
   "execution_count": 4,
   "metadata": {},
   "outputs": [
    {
     "data": {
      "text/plain": [
       "<Axes: xlabel='emotions', ylabel='count'>"
      ]
     },
     "execution_count": 4,
     "metadata": {},
     "output_type": "execute_result"
    },
    {
     "data": {
      "image/png": "[encoded data removed]",
      "text/plain": [
       "<Figure size 640x480 with 1 Axes>"
      ]
     },
     "metadata": {},
     "output_type": "display_data"
    }
   ],
   "source": [
    "sns.countplot(x=df.emotions)"
   ]
  },
  {
   "cell_type": "code",
   "execution_count": 5,
   "metadata": {},
   "outputs": [
    {
     "data": {
      "text/html": [
       "<div>\n",
       "<style scoped>\n",
       "    .dataframe tbody tr th:only-of-type {\n",
       "        vertical-align: middle;\n",
       "    }\n",
       "\n",
       "    .dataframe tbody tr th {\n",
       "        vertical-align: top;\n",
       "    }\n",
       "\n",
       "    .dataframe thead th {\n",
       "        text-align: right;\n",
       "    }\n",
       "</style>\n",
       "<table border=\"1\" class=\"dataframe\">\n",
       "  <thead>\n",
       "    <tr style=\"text-align: right;\">\n",
       "      <th></th>\n",
       "      <th>date</th>\n",
       "      <th>time</th>\n",
       "      <th>name</th>\n",
       "      <th>message</th>\n",
       "      <th>emotions</th>\n",
       "      <th>emotions_names</th>\n",
       "    </tr>\n",
       "  </thead>\n",
       "  <tbody>\n",
       "    <tr>\n",
       "      <th>87419</th>\n",
       "      <td>2023-03-29</td>\n",
       "      <td>21:05:03</td>\n",
       "      <td>Em</td>\n",
       "      <td>Perfecte amb lo dels textos:)</td>\n",
       "      <td>12</td>\n",
       "      <td>assertivity</td>\n",
       "    </tr>\n",
       "  </tbody>\n",
       "</table>\n",
       "</div>"
      ],
      "text/plain": [
       "            date      time name                        message  emotions  \\\n",
       "87419 2023-03-29  21:05:03   Em  Perfecte amb lo dels textos:)        12   \n",
       "\n",
       "      emotions_names  \n",
       "87419    assertivity  "
      ]
     },
     "execution_count": 5,
     "metadata": {},
     "output_type": "execute_result"
    }
   ],
   "source": [
    "df.sample()"
   ]
  },
  {
   "cell_type": "code",
   "execution_count": 6,
   "metadata": {},
   "outputs": [
    {
     "data": {
      "text/plain": [
       "date              datetime64[ns]\n",
       "time                      object\n",
       "name                      object\n",
       "message                   object\n",
       "emotions                   int64\n",
       "emotions_names            object\n",
       "dtype: object"
      ]
     },
     "execution_count": 6,
     "metadata": {},
     "output_type": "execute_result"
    }
   ],
   "source": [
    "df.dtypes"
   ]
  },
  {
   "cell_type": "code",
   "execution_count": 7,
   "metadata": {},
   "outputs": [],
   "source": [
    "emotion_weights = {\n",
    "    \"assertivity\": 0.2,\n",
    "    \"happiness\": 0.4,\n",
    "    \"neutral\": 0.2,\n",
    "    \"defensive\": 0.4\n",
    "}"
   ]
  },
  {
   "cell_type": "markdown",
   "metadata": {},
   "source": [
    "## DAILY EMOTIONS"
   ]
  },
  {
   "cell_type": "code",
   "execution_count": 8,
   "metadata": {},
   "outputs": [],
   "source": [
    "def ponderations(df):\n",
    "\n",
    "    '''Function to designate the max emotion grupping be day.\n",
    "    It also creates the day of the week and if it's a weekend or weekday.'''\n",
    "\n",
    "    emotion_weights = {\n",
    "        \"assertivity\": 0.2,\n",
    "        \"happiness\": 0.3,\n",
    "        \"neutral\": 0.2,\n",
    "        \"defensive\": 0.4\n",
    "    }\n",
    "\n",
    "    df['ponderation'] = df['emotions_names'].map(emotion_weights).fillna(1.0)\n",
    "    grouped_df = df.groupby(['date', 'emotions_names']).agg({'ponderation': 'sum'}).reset_index()\n",
    "\n",
    "    weighted_percentage_df = grouped_df.pivot(index='date', columns='emotions_names', values='ponderation').fillna(0)\n",
    "    weighted_percentage_df = weighted_percentage_df.div(weighted_percentage_df.sum(axis=1), axis=0) * 100\n",
    "\n",
    "    max_emotion_df = weighted_percentage_df.idxmax(axis=1).reset_index(name='max_emotion')\n",
    "\n",
    "    max_emotion_df['day_of_week'] = max_emotion_df['date'].dt.day_name()\n",
    "\n",
    "    max_emotion_df['end_day'] = max_emotion_df['day_of_week'].map(lambda x: 'WeekEND' if x in ['Saturday', 'Sunday'] else 'WeekDAY')\n",
    "\n",
    "    max_emotion_df.reset_index(drop=True, inplace=True)\n",
    "\n",
    "    max_emotion_df.to_csv(\"../data/transformed_df/daylyemotions.csv\")\n",
    "\n",
    "    return max_emotion_df\n",
    "\n",
    "day = ponderations(df)"
   ]
  },
  {
   "cell_type": "code",
   "execution_count": 3,
   "metadata": {},
   "outputs": [
    {
     "data": {
      "text/html": [
       "<div>\n",
       "<style scoped>\n",
       "    .dataframe tbody tr th:only-of-type {\n",
       "        vertical-align: middle;\n",
       "    }\n",
       "\n",
       "    .dataframe tbody tr th {\n",
       "        vertical-align: top;\n",
       "    }\n",
       "\n",
       "    .dataframe thead th {\n",
       "        text-align: right;\n",
       "    }\n",
       "</style>\n",
       "<table border=\"1\" class=\"dataframe\">\n",
       "  <thead>\n",
       "    <tr style=\"text-align: right;\">\n",
       "      <th></th>\n",
       "      <th>Unnamed: 0</th>\n",
       "      <th>date</th>\n",
       "      <th>max_emotion</th>\n",
       "      <th>day_of_week</th>\n",
       "      <th>end_day</th>\n",
       "    </tr>\n",
       "  </thead>\n",
       "  <tbody>\n",
       "    <tr>\n",
       "      <th>1238</th>\n",
       "      <td>1238</td>\n",
       "      <td>2020-09-24</td>\n",
       "      <td>expectant</td>\n",
       "      <td>Thursday</td>\n",
       "      <td>WeekDAY</td>\n",
       "    </tr>\n",
       "    <tr>\n",
       "      <th>349</th>\n",
       "      <td>349</td>\n",
       "      <td>2018-04-10</td>\n",
       "      <td>love</td>\n",
       "      <td>Tuesday</td>\n",
       "      <td>WeekDAY</td>\n",
       "    </tr>\n",
       "    <tr>\n",
       "      <th>1442</th>\n",
       "      <td>1442</td>\n",
       "      <td>2021-04-16</td>\n",
       "      <td>happiness</td>\n",
       "      <td>Friday</td>\n",
       "      <td>WeekDAY</td>\n",
       "    </tr>\n",
       "    <tr>\n",
       "      <th>814</th>\n",
       "      <td>814</td>\n",
       "      <td>2019-07-28</td>\n",
       "      <td>disappointment</td>\n",
       "      <td>Sunday</td>\n",
       "      <td>WeekEND</td>\n",
       "    </tr>\n",
       "    <tr>\n",
       "      <th>324</th>\n",
       "      <td>324</td>\n",
       "      <td>2018-03-16</td>\n",
       "      <td>doubtful</td>\n",
       "      <td>Friday</td>\n",
       "      <td>WeekDAY</td>\n",
       "    </tr>\n",
       "  </tbody>\n",
       "</table>\n",
       "</div>"
      ],
      "text/plain": [
       "      Unnamed: 0        date     max_emotion day_of_week  end_day\n",
       "1238        1238  2020-09-24       expectant    Thursday  WeekDAY\n",
       "349          349  2018-04-10            love     Tuesday  WeekDAY\n",
       "1442        1442  2021-04-16       happiness      Friday  WeekDAY\n",
       "814          814  2019-07-28  disappointment      Sunday  WeekEND\n",
       "324          324  2018-03-16        doubtful      Friday  WeekDAY"
      ]
     },
     "execution_count": 3,
     "metadata": {},
     "output_type": "execute_result"
    }
   ],
   "source": [
    "day = pd.read_csv(\"../data/transformed_df/daylyemotions.csv\")\n",
    "day.sample(5)"
   ]
  },
  {
   "cell_type": "code",
   "execution_count": 4,
   "metadata": {},
   "outputs": [
    {
     "data": {
      "image/png": "[encoded data removed]",
      "text/plain": [
       "<Figure size 640x480 with 1 Axes>"
      ]
     },
     "metadata": {},
     "output_type": "display_data"
    }
   ],
   "source": [
    "plt.plot(day[\"date\"], day[\"max_emotion\"])\n",
    "plt.show();"
   ]
  },
  {
   "cell_type": "markdown",
   "metadata": {},
   "source": [
    "Nice to have si el dia es finde o no"
   ]
  },
  {
   "cell_type": "code",
   "execution_count": 10,
   "metadata": {},
   "outputs": [
    {
     "data": {
      "text/plain": [
       "max_emotion\n",
       "happiness         921\n",
       "stressed          384\n",
       "doubtful          292\n",
       "love              273\n",
       "comprehensive     221\n",
       "anger              83\n",
       "expectant          40\n",
       "joy                34\n",
       "excitement         32\n",
       "sadness            15\n",
       "insecure           10\n",
       "disappointment      6\n",
       "assertivity         5\n",
       "nostalgia           3\n",
       "surprise            3\n",
       "neutral             2\n",
       "picarona            2\n",
       "Name: count, dtype: int64"
      ]
     },
     "execution_count": 10,
     "metadata": {},
     "output_type": "execute_result"
    }
   ],
   "source": [
    "day.max_emotion.value_counts()"
   ]
  },
  {
   "cell_type": "markdown",
   "metadata": {},
   "source": [
    "## WEEKLY EMOTIONS"
   ]
  },
  {
   "cell_type": "code",
   "execution_count": 11,
   "metadata": {},
   "outputs": [],
   "source": [
    "def week_emotions(df):\n",
    "\n",
    "    '''Function to designate the max emotion grupping be day.\n",
    "    It also creates the day of the week and if it's a weekend or weekday.'''\n",
    "\n",
    "    emotion_weights = {\n",
    "        \"assertivity\": 0.2,\n",
    "        \"happiness\": 0.3,\n",
    "        \"neutral\": 0.2,\n",
    "        \"defensive\": 0.4\n",
    "    }\n",
    "\n",
    "    df['ponderation'] = df['emotions_names'].map(emotion_weights).fillna(1.0)\n",
    "    df['week'] = df['date'].dt.strftime('%Y-%U')\n",
    "    grouped_df = df.groupby(['week', 'emotions_names']).agg({'ponderation': 'sum'}).reset_index()\n",
    "\n",
    "    weighted_percentage_df = grouped_df.pivot(index='week', columns='emotions_names', values='ponderation').fillna(0)\n",
    "    weighted_percentage_df = weighted_percentage_df.div(weighted_percentage_df.sum(axis=1), axis=0) * 100\n",
    "\n",
    "    max_emotion_df = weighted_percentage_df.idxmax(axis=1).reset_index(name='max_emotion')\n",
    "\n",
    "    max_emotion_df.reset_index(drop=True, inplace=True)\n",
    "\n",
    "    max_emotion_df.to_csv(\"../data/transformed_df/weeklyemotions.csv\")\n",
    "\n",
    "    return max_emotion_df\n",
    "\n",
    "week = week_emotions(df)"
   ]
  },
  {
   "cell_type": "code",
   "execution_count": 12,
   "metadata": {},
   "outputs": [
    {
     "data": {
      "text/html": [
       "<div>\n",
       "<style scoped>\n",
       "    .dataframe tbody tr th:only-of-type {\n",
       "        vertical-align: middle;\n",
       "    }\n",
       "\n",
       "    .dataframe tbody tr th {\n",
       "        vertical-align: top;\n",
       "    }\n",
       "\n",
       "    .dataframe thead th {\n",
       "        text-align: right;\n",
       "    }\n",
       "</style>\n",
       "<table border=\"1\" class=\"dataframe\">\n",
       "  <thead>\n",
       "    <tr style=\"text-align: right;\">\n",
       "      <th></th>\n",
       "      <th>week</th>\n",
       "      <th>max_emotion</th>\n",
       "    </tr>\n",
       "  </thead>\n",
       "  <tbody>\n",
       "    <tr>\n",
       "      <th>0</th>\n",
       "      <td>2017-16</td>\n",
       "      <td>happiness</td>\n",
       "    </tr>\n",
       "    <tr>\n",
       "      <th>1</th>\n",
       "      <td>2017-17</td>\n",
       "      <td>love</td>\n",
       "    </tr>\n",
       "    <tr>\n",
       "      <th>2</th>\n",
       "      <td>2017-18</td>\n",
       "      <td>happiness</td>\n",
       "    </tr>\n",
       "    <tr>\n",
       "      <th>3</th>\n",
       "      <td>2017-19</td>\n",
       "      <td>love</td>\n",
       "    </tr>\n",
       "    <tr>\n",
       "      <th>4</th>\n",
       "      <td>2017-20</td>\n",
       "      <td>happiness</td>\n",
       "    </tr>\n",
       "    <tr>\n",
       "      <th>...</th>\n",
       "      <td>...</td>\n",
       "      <td>...</td>\n",
       "    </tr>\n",
       "    <tr>\n",
       "      <th>338</th>\n",
       "      <td>2023-44</td>\n",
       "      <td>stressed</td>\n",
       "    </tr>\n",
       "    <tr>\n",
       "      <th>339</th>\n",
       "      <td>2023-45</td>\n",
       "      <td>stressed</td>\n",
       "    </tr>\n",
       "    <tr>\n",
       "      <th>340</th>\n",
       "      <td>2023-46</td>\n",
       "      <td>happiness</td>\n",
       "    </tr>\n",
       "    <tr>\n",
       "      <th>341</th>\n",
       "      <td>2023-47</td>\n",
       "      <td>happiness</td>\n",
       "    </tr>\n",
       "    <tr>\n",
       "      <th>342</th>\n",
       "      <td>2023-48</td>\n",
       "      <td>happiness</td>\n",
       "    </tr>\n",
       "  </tbody>\n",
       "</table>\n",
       "<p>343 rows × 2 columns</p>\n",
       "</div>"
      ],
      "text/plain": [
       "        week max_emotion\n",
       "0    2017-16   happiness\n",
       "1    2017-17        love\n",
       "2    2017-18   happiness\n",
       "3    2017-19        love\n",
       "4    2017-20   happiness\n",
       "..       ...         ...\n",
       "338  2023-44    stressed\n",
       "339  2023-45    stressed\n",
       "340  2023-46   happiness\n",
       "341  2023-47   happiness\n",
       "342  2023-48   happiness\n",
       "\n",
       "[343 rows x 2 columns]"
      ]
     },
     "execution_count": 12,
     "metadata": {},
     "output_type": "execute_result"
    }
   ],
   "source": [
    "week"
   ]
  },
  {
   "cell_type": "code",
   "execution_count": 13,
   "metadata": {},
   "outputs": [
    {
     "data": {
      "text/plain": [
       "Index(['week', 'max_emotion'], dtype='object')"
      ]
     },
     "execution_count": 13,
     "metadata": {},
     "output_type": "execute_result"
    }
   ],
   "source": [
    "week.columns"
   ]
  },
  {
   "cell_type": "code",
   "execution_count": 14,
   "metadata": {},
   "outputs": [
    {
     "data": {
      "text/html": [
       "<div>\n",
       "<style scoped>\n",
       "    .dataframe tbody tr th:only-of-type {\n",
       "        vertical-align: middle;\n",
       "    }\n",
       "\n",
       "    .dataframe tbody tr th {\n",
       "        vertical-align: top;\n",
       "    }\n",
       "\n",
       "    .dataframe thead th {\n",
       "        text-align: right;\n",
       "    }\n",
       "</style>\n",
       "<table border=\"1\" class=\"dataframe\">\n",
       "  <thead>\n",
       "    <tr style=\"text-align: right;\">\n",
       "      <th></th>\n",
       "      <th>week</th>\n",
       "      <th>max_emotion</th>\n",
       "    </tr>\n",
       "  </thead>\n",
       "  <tbody>\n",
       "    <tr>\n",
       "      <th>323</th>\n",
       "      <td>2023-29</td>\n",
       "      <td>stressed</td>\n",
       "    </tr>\n",
       "    <tr>\n",
       "      <th>324</th>\n",
       "      <td>2023-30</td>\n",
       "      <td>happiness</td>\n",
       "    </tr>\n",
       "    <tr>\n",
       "      <th>325</th>\n",
       "      <td>2023-31</td>\n",
       "      <td>happiness</td>\n",
       "    </tr>\n",
       "    <tr>\n",
       "      <th>326</th>\n",
       "      <td>2023-32</td>\n",
       "      <td>happiness</td>\n",
       "    </tr>\n",
       "    <tr>\n",
       "      <th>327</th>\n",
       "      <td>2023-33</td>\n",
       "      <td>happiness</td>\n",
       "    </tr>\n",
       "    <tr>\n",
       "      <th>328</th>\n",
       "      <td>2023-34</td>\n",
       "      <td>happiness</td>\n",
       "    </tr>\n",
       "    <tr>\n",
       "      <th>329</th>\n",
       "      <td>2023-35</td>\n",
       "      <td>happiness</td>\n",
       "    </tr>\n",
       "    <tr>\n",
       "      <th>330</th>\n",
       "      <td>2023-36</td>\n",
       "      <td>happiness</td>\n",
       "    </tr>\n",
       "    <tr>\n",
       "      <th>331</th>\n",
       "      <td>2023-37</td>\n",
       "      <td>happiness</td>\n",
       "    </tr>\n",
       "    <tr>\n",
       "      <th>332</th>\n",
       "      <td>2023-38</td>\n",
       "      <td>happiness</td>\n",
       "    </tr>\n",
       "    <tr>\n",
       "      <th>333</th>\n",
       "      <td>2023-39</td>\n",
       "      <td>happiness</td>\n",
       "    </tr>\n",
       "    <tr>\n",
       "      <th>334</th>\n",
       "      <td>2023-40</td>\n",
       "      <td>happiness</td>\n",
       "    </tr>\n",
       "    <tr>\n",
       "      <th>335</th>\n",
       "      <td>2023-41</td>\n",
       "      <td>happiness</td>\n",
       "    </tr>\n",
       "    <tr>\n",
       "      <th>336</th>\n",
       "      <td>2023-42</td>\n",
       "      <td>happiness</td>\n",
       "    </tr>\n",
       "    <tr>\n",
       "      <th>337</th>\n",
       "      <td>2023-43</td>\n",
       "      <td>happiness</td>\n",
       "    </tr>\n",
       "    <tr>\n",
       "      <th>338</th>\n",
       "      <td>2023-44</td>\n",
       "      <td>stressed</td>\n",
       "    </tr>\n",
       "    <tr>\n",
       "      <th>339</th>\n",
       "      <td>2023-45</td>\n",
       "      <td>stressed</td>\n",
       "    </tr>\n",
       "    <tr>\n",
       "      <th>340</th>\n",
       "      <td>2023-46</td>\n",
       "      <td>happiness</td>\n",
       "    </tr>\n",
       "    <tr>\n",
       "      <th>341</th>\n",
       "      <td>2023-47</td>\n",
       "      <td>happiness</td>\n",
       "    </tr>\n",
       "    <tr>\n",
       "      <th>342</th>\n",
       "      <td>2023-48</td>\n",
       "      <td>happiness</td>\n",
       "    </tr>\n",
       "  </tbody>\n",
       "</table>\n",
       "</div>"
      ],
      "text/plain": [
       "        week max_emotion\n",
       "323  2023-29    stressed\n",
       "324  2023-30   happiness\n",
       "325  2023-31   happiness\n",
       "326  2023-32   happiness\n",
       "327  2023-33   happiness\n",
       "328  2023-34   happiness\n",
       "329  2023-35   happiness\n",
       "330  2023-36   happiness\n",
       "331  2023-37   happiness\n",
       "332  2023-38   happiness\n",
       "333  2023-39   happiness\n",
       "334  2023-40   happiness\n",
       "335  2023-41   happiness\n",
       "336  2023-42   happiness\n",
       "337  2023-43   happiness\n",
       "338  2023-44    stressed\n",
       "339  2023-45    stressed\n",
       "340  2023-46   happiness\n",
       "341  2023-47   happiness\n",
       "342  2023-48   happiness"
      ]
     },
     "execution_count": 14,
     "metadata": {},
     "output_type": "execute_result"
    }
   ],
   "source": [
    "week.tail(20)"
   ]
  },
  {
   "cell_type": "code",
   "execution_count": 15,
   "metadata": {},
   "outputs": [
    {
     "data": {
      "text/plain": [
       "max_emotion\n",
       "happiness        259\n",
       "stressed          44\n",
       "love              28\n",
       "doubtful           8\n",
       "comprehensive      4\n",
       "Name: count, dtype: int64"
      ]
     },
     "execution_count": 15,
     "metadata": {},
     "output_type": "execute_result"
    }
   ],
   "source": [
    "week.max_emotion.value_counts()"
   ]
  },
  {
   "cell_type": "markdown",
   "metadata": {},
   "source": [
    "## MONTHLY EMOTIONS"
   ]
  },
  {
   "cell_type": "code",
   "execution_count": 16,
   "metadata": {},
   "outputs": [],
   "source": [
    "def month_emotions(df):\n",
    "\n",
    "    '''Function to designate the max emotion grupping be day.\n",
    "    It also creates the day of the week and if it's a weekend or weekday.'''\n",
    "\n",
    "    emotion_weights = {\n",
    "        \"assertivity\": 0.2,\n",
    "        \"happiness\": 0.25,\n",
    "        \"neutral\": 0.2,\n",
    "        \"defensive\": 0.4\n",
    "    }\n",
    "\n",
    "    df['ponderation'] = df['emotions_names'].map(emotion_weights).fillna(1.0)\n",
    "    df['month'] = df['date'].dt.to_period('M')\n",
    "    grouped_df = df.groupby(['month', 'emotions_names']).agg({'ponderation': 'sum'}).reset_index()\n",
    "\n",
    "    weighted_percentage_df = grouped_df.pivot(index='month', columns='emotions_names', values='ponderation').fillna(0)\n",
    "    weighted_percentage_df = weighted_percentage_df.div(weighted_percentage_df.sum(axis=1), axis=0) * 100\n",
    "\n",
    "    max_emotion_df = weighted_percentage_df.idxmax(axis=1).reset_index(name='max_emotion')\n",
    "\n",
    "    max_emotion_df.reset_index(drop=True, inplace=True)\n",
    "\n",
    "    max_emotion_df.to_csv(\"../data/transformed_df/monthlyemotions.csv\")\n",
    "\n",
    "    return max_emotion_df\n",
    "\n",
    "month = month_emotions(df)"
   ]
  },
  {
   "cell_type": "code",
   "execution_count": 17,
   "metadata": {},
   "outputs": [
    {
     "data": {
      "text/html": [
       "<div>\n",
       "<style scoped>\n",
       "    .dataframe tbody tr th:only-of-type {\n",
       "        vertical-align: middle;\n",
       "    }\n",
       "\n",
       "    .dataframe tbody tr th {\n",
       "        vertical-align: top;\n",
       "    }\n",
       "\n",
       "    .dataframe thead th {\n",
       "        text-align: right;\n",
       "    }\n",
       "</style>\n",
       "<table border=\"1\" class=\"dataframe\">\n",
       "  <thead>\n",
       "    <tr style=\"text-align: right;\">\n",
       "      <th></th>\n",
       "      <th>month</th>\n",
       "      <th>max_emotion</th>\n",
       "    </tr>\n",
       "  </thead>\n",
       "  <tbody>\n",
       "    <tr>\n",
       "      <th>0</th>\n",
       "      <td>2017-04</td>\n",
       "      <td>happiness</td>\n",
       "    </tr>\n",
       "    <tr>\n",
       "      <th>1</th>\n",
       "      <td>2017-05</td>\n",
       "      <td>love</td>\n",
       "    </tr>\n",
       "    <tr>\n",
       "      <th>2</th>\n",
       "      <td>2017-06</td>\n",
       "      <td>happiness</td>\n",
       "    </tr>\n",
       "    <tr>\n",
       "      <th>3</th>\n",
       "      <td>2017-07</td>\n",
       "      <td>love</td>\n",
       "    </tr>\n",
       "    <tr>\n",
       "      <th>4</th>\n",
       "      <td>2017-08</td>\n",
       "      <td>love</td>\n",
       "    </tr>\n",
       "    <tr>\n",
       "      <th>...</th>\n",
       "      <td>...</td>\n",
       "      <td>...</td>\n",
       "    </tr>\n",
       "    <tr>\n",
       "      <th>75</th>\n",
       "      <td>2023-07</td>\n",
       "      <td>stressed</td>\n",
       "    </tr>\n",
       "    <tr>\n",
       "      <th>76</th>\n",
       "      <td>2023-08</td>\n",
       "      <td>happiness</td>\n",
       "    </tr>\n",
       "    <tr>\n",
       "      <th>77</th>\n",
       "      <td>2023-09</td>\n",
       "      <td>happiness</td>\n",
       "    </tr>\n",
       "    <tr>\n",
       "      <th>78</th>\n",
       "      <td>2023-10</td>\n",
       "      <td>happiness</td>\n",
       "    </tr>\n",
       "    <tr>\n",
       "      <th>79</th>\n",
       "      <td>2023-11</td>\n",
       "      <td>stressed</td>\n",
       "    </tr>\n",
       "  </tbody>\n",
       "</table>\n",
       "<p>80 rows × 2 columns</p>\n",
       "</div>"
      ],
      "text/plain": [
       "      month max_emotion\n",
       "0   2017-04   happiness\n",
       "1   2017-05        love\n",
       "2   2017-06   happiness\n",
       "3   2017-07        love\n",
       "4   2017-08        love\n",
       "..      ...         ...\n",
       "75  2023-07    stressed\n",
       "76  2023-08   happiness\n",
       "77  2023-09   happiness\n",
       "78  2023-10   happiness\n",
       "79  2023-11    stressed\n",
       "\n",
       "[80 rows x 2 columns]"
      ]
     },
     "execution_count": 17,
     "metadata": {},
     "output_type": "execute_result"
    }
   ],
   "source": [
    "month"
   ]
  },
  {
   "cell_type": "code",
   "execution_count": 18,
   "metadata": {},
   "outputs": [
    {
     "data": {
      "text/plain": [
       "max_emotion\n",
       "happiness    54\n",
       "stressed     18\n",
       "love          7\n",
       "doubtful      1\n",
       "Name: count, dtype: int64"
      ]
     },
     "execution_count": 18,
     "metadata": {},
     "output_type": "execute_result"
    }
   ],
   "source": [
    "month.max_emotion.value_counts()"
   ]
  },
  {
   "cell_type": "code",
   "execution_count": 5,
   "metadata": {},
   "outputs": [
    {
     "data": {
      "text/html": [
       "<div>\n",
       "<style scoped>\n",
       "    .dataframe tbody tr th:only-of-type {\n",
       "        vertical-align: middle;\n",
       "    }\n",
       "\n",
       "    .dataframe tbody tr th {\n",
       "        vertical-align: top;\n",
       "    }\n",
       "\n",
       "    .dataframe thead th {\n",
       "        text-align: right;\n",
       "    }\n",
       "</style>\n",
       "<table border=\"1\" class=\"dataframe\">\n",
       "  <thead>\n",
       "    <tr style=\"text-align: right;\">\n",
       "      <th></th>\n",
       "      <th>Unnamed: 0</th>\n",
       "      <th>month</th>\n",
       "      <th>max_emotion</th>\n",
       "    </tr>\n",
       "  </thead>\n",
       "  <tbody>\n",
       "    <tr>\n",
       "      <th>0</th>\n",
       "      <td>0</td>\n",
       "      <td>2017-04</td>\n",
       "      <td>happiness</td>\n",
       "    </tr>\n",
       "    <tr>\n",
       "      <th>1</th>\n",
       "      <td>1</td>\n",
       "      <td>2017-05</td>\n",
       "      <td>love</td>\n",
       "    </tr>\n",
       "    <tr>\n",
       "      <th>2</th>\n",
       "      <td>2</td>\n",
       "      <td>2017-06</td>\n",
       "      <td>happiness</td>\n",
       "    </tr>\n",
       "    <tr>\n",
       "      <th>3</th>\n",
       "      <td>3</td>\n",
       "      <td>2017-07</td>\n",
       "      <td>love</td>\n",
       "    </tr>\n",
       "    <tr>\n",
       "      <th>4</th>\n",
       "      <td>4</td>\n",
       "      <td>2017-08</td>\n",
       "      <td>love</td>\n",
       "    </tr>\n",
       "    <tr>\n",
       "      <th>...</th>\n",
       "      <td>...</td>\n",
       "      <td>...</td>\n",
       "      <td>...</td>\n",
       "    </tr>\n",
       "    <tr>\n",
       "      <th>75</th>\n",
       "      <td>75</td>\n",
       "      <td>2023-07</td>\n",
       "      <td>stressed</td>\n",
       "    </tr>\n",
       "    <tr>\n",
       "      <th>76</th>\n",
       "      <td>76</td>\n",
       "      <td>2023-08</td>\n",
       "      <td>happiness</td>\n",
       "    </tr>\n",
       "    <tr>\n",
       "      <th>77</th>\n",
       "      <td>77</td>\n",
       "      <td>2023-09</td>\n",
       "      <td>happiness</td>\n",
       "    </tr>\n",
       "    <tr>\n",
       "      <th>78</th>\n",
       "      <td>78</td>\n",
       "      <td>2023-10</td>\n",
       "      <td>happiness</td>\n",
       "    </tr>\n",
       "    <tr>\n",
       "      <th>79</th>\n",
       "      <td>79</td>\n",
       "      <td>2023-11</td>\n",
       "      <td>stressed</td>\n",
       "    </tr>\n",
       "  </tbody>\n",
       "</table>\n",
       "<p>80 rows × 3 columns</p>\n",
       "</div>"
      ],
      "text/plain": [
       "    Unnamed: 0    month max_emotion\n",
       "0            0  2017-04   happiness\n",
       "1            1  2017-05        love\n",
       "2            2  2017-06   happiness\n",
       "3            3  2017-07        love\n",
       "4            4  2017-08        love\n",
       "..         ...      ...         ...\n",
       "75          75  2023-07    stressed\n",
       "76          76  2023-08   happiness\n",
       "77          77  2023-09   happiness\n",
       "78          78  2023-10   happiness\n",
       "79          79  2023-11    stressed\n",
       "\n",
       "[80 rows x 3 columns]"
      ]
     },
     "execution_count": 5,
     "metadata": {},
     "output_type": "execute_result"
    }
   ],
   "source": [
    "month = pd.read_csv(\"../data/transformed_df/monthlyemotions.csv\")\n",
    "month"
   ]
  },
  {
   "cell_type": "code",
   "execution_count": 11,
   "metadata": {},
   "outputs": [
    {
     "data": {
      "image/png": "[encoded data removed]",
      "text/plain": [
       "<Figure size 1000x800 with 1 Axes>"
      ]
     },
     "metadata": {},
     "output_type": "display_data"
    }
   ],
   "source": [
    "plt.figure(figsize=(10, 8))\n",
    "plt.plot(month[\"month\"], month[\"max_emotion\"])\n",
    "plt.xticks(rotation=90)\n",
    "plt.show();"
   ]
  },
  {
   "cell_type": "code",
   "execution_count": 25,
   "metadata": {},
   "outputs": [
    {
     "data": {
      "application/vnd.plotly.v1+json": {
       "config": {
        "plotlyServerURL": "https://plot.ly"
       },
       "data": [
        {
         "fill": "toself",
         "hovertemplate": "r=%{r}<br>theta=%{theta}<extra></extra>",
         "legendgroup": "",
         "line": {
          "color": "#636efa",
          "dash": "solid"
         },
         "marker": {
          "symbol": "circle"
         },
         "mode": "lines",
         "name": "",
         "r": [
          54,
          18,
          7,
          1,
          54
         ],
         "showlegend": false,
         "subplot": "polar",
         "theta": [
          "happiness",
          "stressed",
          "love",
          "doubtful",
          "happiness"
         ],
         "type": "scatterpolar"
        }
       ],
       "layout": {
        "legend": {
         "tracegroupgap": 0
        },
        "margin": {
         "t": 60
        },
        "polar": {
         "angularaxis": {
          "direction": "clockwise",
          "rotation": 90
         },
         "domain": {
          "x": [
           0,
           1
          ],
          "y": [
           0,
           1
          ]
         }
        },
        "template": {
         "data": {
          "bar": [
           {
            "error_x": {
             "color": "#2a3f5f"
            },
            "error_y": {
             "color": "#2a3f5f"
            },
            "marker": {
             "line": {
              "color": "#E5ECF6",
              "width": 0.5
             },
             "pattern": {
              "fillmode": "overlay",
              "size": 10,
              "solidity": 0.2
             }
            },
            "type": "bar"
           }
          ],
          "barpolar": [
           {
            "marker": {
             "line": {
              "color": "#E5ECF6",
              "width": 0.5
             },
             "pattern": {
              "fillmode": "overlay",
              "size": 10,
              "solidity": 0.2
             }
            },
            "type": "barpolar"
           }
          ],
          "carpet": [
           {
            "aaxis": {
             "endlinecolor": "#2a3f5f",
             "gridcolor": "white",
             "linecolor": "white",
             "minorgridcolor": "white",
             "startlinecolor": "#2a3f5f"
            },
            "baxis": {
             "endlinecolor": "#2a3f5f",
             "gridcolor": "white",
             "linecolor": "white",
             "minorgridcolor": "white",
             "startlinecolor": "#2a3f5f"
            },
            "type": "carpet"
           }
          ],
          "choropleth": [
           {
            "colorbar": {
             "outlinewidth": 0,
             "ticks": ""
            },
            "type": "choropleth"
           }
          ],
          "contour": [
           {
            "colorbar": {
             "outlinewidth": 0,
             "ticks": ""
            },
            "colorscale": [
             [
              0,
              "#0d0887"
             ],
             [
              0.1111111111111111,
              "#46039f"
             ],
             [
              0.2222222222222222,
              "#7201a8"
             ],
             [
              0.3333333333333333,
              "#9c179e"
             ],
             [
              0.4444444444444444,
              "#bd3786"
             ],
             [
              0.5555555555555556,
              "#d8576b"
             ],
             [
              0.6666666666666666,
              "#ed7953"
             ],
             [
              0.7777777777777778,
              "#fb9f3a"
             ],
             [
              0.8888888888888888,
              "#fdca26"
             ],
             [
              1,
              "#f0f921"
             ]
            ],
            "type": "contour"
           }
          ],
          "contourcarpet": [
           {
            "colorbar": {
             "outlinewidth": 0,
             "ticks": ""
            },
            "type": "contourcarpet"
           }
          ],
          "heatmap": [
           {
            "colorbar": {
             "outlinewidth": 0,
             "ticks": ""
            },
            "colorscale": [
             [
              0,
              "#0d0887"
             ],
             [
              0.1111111111111111,
              "#46039f"
             ],
             [
              0.2222222222222222,
              "#7201a8"
             ],
             [
              0.3333333333333333,
              "#9c179e"
             ],
             [
              0.4444444444444444,
              "#bd3786"
             ],
             [
              0.5555555555555556,
              "#d8576b"
             ],
             [
              0.6666666666666666,
              "#ed7953"
             ],
             [
              0.7777777777777778,
              "#fb9f3a"
             ],
             [
              0.8888888888888888,
              "#fdca26"
             ],
             [
              1,
              "#f0f921"
             ]
            ],
            "type": "heatmap"
           }
          ],
          "heatmapgl": [
           {
            "colorbar": {
             "outlinewidth": 0,
             "ticks": ""
            },
            "colorscale": [
             [
              0,
              "#0d0887"
             ],
             [
              0.1111111111111111,
              "#46039f"
             ],
             [
              0.2222222222222222,
              "#7201a8"
             ],
             [
              0.3333333333333333,
              "#9c179e"
             ],
             [
              0.4444444444444444,
              "#bd3786"
             ],
             [
              0.5555555555555556,
              "#d8576b"
             ],
             [
              0.6666666666666666,
              "#ed7953"
             ],
             [
              0.7777777777777778,
              "#fb9f3a"
             ],
             [
              0.8888888888888888,
              "#fdca26"
             ],
             [
              1,
              "#f0f921"
             ]
            ],
            "type": "heatmapgl"
           }
          ],
          "histogram": [
           {
            "marker": {
             "pattern": {
              "fillmode": "overlay",
              "size": 10,
              "solidity": 0.2
             }
            },
            "type": "histogram"
           }
          ],
          "histogram2d": [
           {
            "colorbar": {
             "outlinewidth": 0,
             "ticks": ""
            },
            "colorscale": [
             [
              0,
              "#0d0887"
             ],
             [
              0.1111111111111111,
              "#46039f"
             ],
             [
              0.2222222222222222,
              "#7201a8"
             ],
             [
              0.3333333333333333,
              "#9c179e"
             ],
             [
              0.4444444444444444,
              "#bd3786"
             ],
             [
              0.5555555555555556,
              "#d8576b"
             ],
             [
              0.6666666666666666,
              "#ed7953"
             ],
             [
              0.7777777777777778,
              "#fb9f3a"
             ],
             [
              0.8888888888888888,
              "#fdca26"
             ],
             [
              1,
              "#f0f921"
             ]
            ],
            "type": "histogram2d"
           }
          ],
          "histogram2dcontour": [
           {
            "colorbar": {
             "outlinewidth": 0,
             "ticks": ""
            },
            "colorscale": [
             [
              0,
              "#0d0887"
             ],
             [
              0.1111111111111111,
              "#46039f"
             ],
             [
              0.2222222222222222,
              "#7201a8"
             ],
             [
              0.3333333333333333,
              "#9c179e"
             ],
             [
              0.4444444444444444,
              "#bd3786"
             ],
             [
              0.5555555555555556,
              "#d8576b"
             ],
             [
              0.6666666666666666,
              "#ed7953"
             ],
             [
              0.7777777777777778,
              "#fb9f3a"
             ],
             [
              0.8888888888888888,
              "#fdca26"
             ],
             [
              1,
              "#f0f921"
             ]
            ],
            "type": "histogram2dcontour"
           }
          ],
          "mesh3d": [
           {
            "colorbar": {
             "outlinewidth": 0,
             "ticks": ""
            },
            "type": "mesh3d"
           }
          ],
          "parcoords": [
           {
            "line": {
             "colorbar": {
              "outlinewidth": 0,
              "ticks": ""
             }
            },
            "type": "parcoords"
           }
          ],
          "pie": [
           {
            "automargin": true,
            "type": "pie"
           }
          ],
          "scatter": [
           {
            "fillpattern": {
             "fillmode": "overlay",
             "size": 10,
             "solidity": 0.2
            },
            "type": "scatter"
           }
          ],
          "scatter3d": [
           {
            "line": {
             "colorbar": {
              "outlinewidth": 0,
              "ticks": ""
             }
            },
            "marker": {
             "colorbar": {
              "outlinewidth": 0,
              "ticks": ""
             }
            },
            "type": "scatter3d"
           }
          ],
          "scattercarpet": [
           {
            "marker": {
             "colorbar": {
              "outlinewidth": 0,
              "ticks": ""
             }
            },
            "type": "scattercarpet"
           }
          ],
          "scattergeo": [
           {
            "marker": {
             "colorbar": {
              "outlinewidth": 0,
              "ticks": ""
             }
            },
            "type": "scattergeo"
           }
          ],
          "scattergl": [
           {
            "marker": {
             "colorbar": {
              "outlinewidth": 0,
              "ticks": ""
             }
            },
            "type": "scattergl"
           }
          ],
          "scattermapbox": [
           {
            "marker": {
             "colorbar": {
              "outlinewidth": 0,
              "ticks": ""
             }
            },
            "type": "scattermapbox"
           }
          ],
          "scatterpolar": [
           {
            "marker": {
             "colorbar": {
              "outlinewidth": 0,
              "ticks": ""
             }
            },
            "type": "scatterpolar"
           }
          ],
          "scatterpolargl": [
           {
            "marker": {
             "colorbar": {
              "outlinewidth": 0,
              "ticks": ""
             }
            },
            "type": "scatterpolargl"
           }
          ],
          "scatterternary": [
           {
            "marker": {
             "colorbar": {
              "outlinewidth": 0,
              "ticks": ""
             }
            },
            "type": "scatterternary"
           }
          ],
          "surface": [
           {
            "colorbar": {
             "outlinewidth": 0,
             "ticks": ""
            },
            "colorscale": [
             [
              0,
              "#0d0887"
             ],
             [
              0.1111111111111111,
              "#46039f"
             ],
             [
              0.2222222222222222,
              "#7201a8"
             ],
             [
              0.3333333333333333,
              "#9c179e"
             ],
             [
              0.4444444444444444,
              "#bd3786"
             ],
             [
              0.5555555555555556,
              "#d8576b"
             ],
             [
              0.6666666666666666,
              "#ed7953"
             ],
             [
              0.7777777777777778,
              "#fb9f3a"
             ],
             [
              0.8888888888888888,
              "#fdca26"
             ],
             [
              1,
              "#f0f921"
             ]
            ],
            "type": "surface"
           }
          ],
          "table": [
           {
            "cells": {
             "fill": {
              "color": "#EBF0F8"
             },
             "line": {
              "color": "white"
             }
            },
            "header": {
             "fill": {
              "color": "#C8D4E3"
             },
             "line": {
              "color": "white"
             }
            },
            "type": "table"
           }
          ]
         },
         "layout": {
          "annotationdefaults": {
           "arrowcolor": "#2a3f5f",
           "arrowhead": 0,
           "arrowwidth": 1
          },
          "autotypenumbers": "strict",
          "coloraxis": {
           "colorbar": {
            "outlinewidth": 0,
            "ticks": ""
           }
          },
          "colorscale": {
           "diverging": [
            [
             0,
             "#8e0152"
            ],
            [
             0.1,
             "#c51b7d"
            ],
            [
             0.2,
             "#de77ae"
            ],
            [
             0.3,
             "#f1b6da"
            ],
            [
             0.4,
             "#fde0ef"
            ],
            [
             0.5,
             "#f7f7f7"
            ],
            [
             0.6,
             "#e6f5d0"
            ],
            [
             0.7,
             "#b8e186"
            ],
            [
             0.8,
             "#7fbc41"
            ],
            [
             0.9,
             "#4d9221"
            ],
            [
             1,
             "#276419"
            ]
           ],
           "sequential": [
            [
             0,
             "#0d0887"
            ],
            [
             0.1111111111111111,
             "#46039f"
            ],
            [
             0.2222222222222222,
             "#7201a8"
            ],
            [
             0.3333333333333333,
             "#9c179e"
            ],
            [
             0.4444444444444444,
             "#bd3786"
            ],
            [
             0.5555555555555556,
             "#d8576b"
            ],
            [
             0.6666666666666666,
             "#ed7953"
            ],
            [
             0.7777777777777778,
             "#fb9f3a"
            ],
            [
             0.8888888888888888,
             "#fdca26"
            ],
            [
             1,
             "#f0f921"
            ]
           ],
           "sequentialminus": [
            [
             0,
             "#0d0887"
            ],
            [
             0.1111111111111111,
             "#46039f"
            ],
            [
             0.2222222222222222,
             "#7201a8"
            ],
            [
             0.3333333333333333,
             "#9c179e"
            ],
            [
             0.4444444444444444,
             "#bd3786"
            ],
            [
             0.5555555555555556,
             "#d8576b"
            ],
            [
             0.6666666666666666,
             "#ed7953"
            ],
            [
             0.7777777777777778,
             "#fb9f3a"
            ],
            [
             0.8888888888888888,
             "#fdca26"
            ],
            [
             1,
             "#f0f921"
            ]
           ]
          },
          "colorway": [
           "#636efa",
           "#EF553B",
           "#00cc96",
           "#ab63fa",
           "#FFA15A",
           "#19d3f3",
           "#FF6692",
           "#B6E880",
           "#FF97FF",
           "#FECB52"
          ],
          "font": {
           "color": "#2a3f5f"
          },
          "geo": {
           "bgcolor": "white",
           "lakecolor": "white",
           "landcolor": "#E5ECF6",
           "showlakes": true,
           "showland": true,
           "subunitcolor": "white"
          },
          "hoverlabel": {
           "align": "left"
          },
          "hovermode": "closest",
          "mapbox": {
           "style": "light"
          },
          "paper_bgcolor": "white",
          "plot_bgcolor": "#E5ECF6",
          "polar": {
           "angularaxis": {
            "gridcolor": "white",
            "linecolor": "white",
            "ticks": ""
           },
           "bgcolor": "#E5ECF6",
           "radialaxis": {
            "gridcolor": "white",
            "linecolor": "white",
            "ticks": ""
           }
          },
          "scene": {
           "xaxis": {
            "backgroundcolor": "#E5ECF6",
            "gridcolor": "white",
            "gridwidth": 2,
            "linecolor": "white",
            "showbackground": true,
            "ticks": "",
            "zerolinecolor": "white"
           },
           "yaxis": {
            "backgroundcolor": "#E5ECF6",
            "gridcolor": "white",
            "gridwidth": 2,
            "linecolor": "white",
            "showbackground": true,
            "ticks": "",
            "zerolinecolor": "white"
           },
           "zaxis": {
            "backgroundcolor": "#E5ECF6",
            "gridcolor": "white",
            "gridwidth": 2,
            "linecolor": "white",
            "showbackground": true,
            "ticks": "",
            "zerolinecolor": "white"
           }
          },
          "shapedefaults": {
           "line": {
            "color": "#2a3f5f"
           }
          },
          "ternary": {
           "aaxis": {
            "gridcolor": "white",
            "linecolor": "white",
            "ticks": ""
           },
           "baxis": {
            "gridcolor": "white",
            "linecolor": "white",
            "ticks": ""
           },
           "bgcolor": "#E5ECF6",
           "caxis": {
            "gridcolor": "white",
            "linecolor": "white",
            "ticks": ""
           }
          },
          "title": {
           "x": 0.05
          },
          "xaxis": {
           "automargin": true,
           "gridcolor": "white",
           "linecolor": "white",
           "ticks": "",
           "title": {
            "standoff": 15
           },
           "zerolinecolor": "white",
           "zerolinewidth": 2
          },
          "yaxis": {
           "automargin": true,
           "gridcolor": "white",
           "linecolor": "white",
           "ticks": "",
           "title": {
            "standoff": 15
           },
           "zerolinecolor": "white",
           "zerolinewidth": 2
          }
         }
        }
       }
      }
     },
     "metadata": {},
     "output_type": "display_data"
    }
   ],
   "source": [
    "\n",
    "fig = px.line_polar(\n",
    "    month,\n",
    "    r=month[\"max_emotion\"].value_counts().values,\n",
    "    theta=month[\"max_emotion\"].value_counts().index,\n",
    "    line_close=True,\n",
    ")\n",
    "fig.update_traces(fill='toself')\n",
    "fig.show()\n"
   ]
  },
  {
   "cell_type": "markdown",
   "metadata": {},
   "source": [
    "## GET DATTAFRAME WE'LL USE TO PREDICT"
   ]
  },
  {
   "cell_type": "code",
   "execution_count": 129,
   "metadata": {},
   "outputs": [],
   "source": [
    "def predict_emotion_df(df):\n",
    "\n",
    "    '''Function to get the dataframe we're going to use to train and test the model and predict\n",
    "    the emotion of the month we're entering based on the last week of the month messages.'''\n",
    "\n",
    "\n",
    "    df2 = df.copy()\n",
    "\n",
    "    df2['year'] = df2['date'].dt.year\n",
    "    df2['month'] = df2['date'].dt.month\n",
    "\n",
    "    # messages, only from the 7 days of every month\n",
    "    last_day_of_month = df2.groupby(['year', 'month'])['date'].max().reset_index()\n",
    "    last_day_of_month['last_7_days'] = last_day_of_month['date'] - pd.DateOffset(days=6)\n",
    "    last_day_of_month['last_7_days'] = last_day_of_month['last_7_days'].dt.date\n",
    "    result_df = pd.merge(df2, last_day_of_month, on=['year', 'month'], how='inner', suffixes=('', '_max'))\n",
    "    result_df = result_df[result_df['date'] >= result_df['last_7_days']]\n",
    "    result_df.drop(['year', 'month', 'date_max', 'last_7_days','name', 'ponderation', 'message'], axis=1, inplace = True)\n",
    "    result_df['week'] = result_df['date'].dt.to_period('M')\n",
    "    result_df.rename(columns={'week': 'month'}, inplace=True)\n",
    "\n",
    "    # days\n",
    "    df3 = day.copy()\n",
    "    df3.rename(columns={'max_emotion': 'max_emotion_day'}, inplace=True)\n",
    "    df3.drop(['day_of_week', 'end_day'], axis=1, inplace=True)\n",
    "    merged_df = pd.merge(result_df,df3, on='date', how='right')\n",
    "\n",
    "    # weeks\n",
    "    df4 = week.copy()\n",
    "    print(df4.dtypes)\n",
    "    df4['week'] = pd.to_datetime(df4['week'] + '-1', format='%Y-%U-%w')\n",
    "    df4['week'] = df4['week'].dt.to_period('M')\n",
    "    df4.rename(columns={'max_emotion': 'max_emotion_week'}, inplace=True)\n",
    "    df4.rename(columns={'week': 'month'}, inplace=True)\n",
    "    merged_df2 = pd.merge(merged_df, df4, on='month', how='right')\n",
    "\n",
    "    # month\n",
    "    df5 = month.copy()\n",
    "    df5.rename(columns={'max_emotion': 'next_month_emotion'}, inplace=True)   \n",
    "    merged_df2['month'] = merged_df2['month']+ 1 #+ pd.DateOffset(months=1)+ pd.DateOffset(days=1)\n",
    "    merged_df3 = pd.merge(merged_df2, df5, on='month', how='right', suffixes=('_merged_df2', '_df5'))\n",
    "\n",
    "    merged_df3['month'] = merged_df2['month']- 1\n",
    "    merged_df3.drop(['month','emotions_names'], axis=1, inplace = True)\n",
    "    merged_df3.dropna(subset=['next_month_emotion'], inplace = True)\n",
    "    merged_df3.dropna(subset=['next_month_emotion'], inplace = True)\n",
    "    merged_df3.dropna(subset=['date'], inplace = True)\n",
    "\n",
    "    merged_df3 = merged_df3.reset_index(drop=True)\n",
    "\n",
    "\n",
    "    # changing the words for numbers\n",
    "\n",
    "    emotions = {\"sadness\":1,\"joy\":2,\"fear\":3,\"anger\":4,\"surprise\":5,\"defensive\":6, \"nostalgia\":7,\"happiness\":8,\"stressed\":9,\n",
    "                \"expectant\":10,\"insecure\":11,\"assertivity\":12,\"neutral\":13,\"excitement\":14,\"comprehensive\":15,\n",
    "                \"helpless\":16,\"love\":17,\"disappointment\":18,\"doubtful\":19,\"picarona\":20}\n",
    "\n",
    "    columns_to_replace = [\"max_emotion_day\", \"max_emotion_week\", \"next_month_emotion\"]\n",
    "\n",
    "    for column in columns_to_replace:\n",
    "        merged_df3[column] = merged_df3[column].replace(emotions)\n",
    "\n",
    "\n",
    "\n",
    "    merged_df3.to_csv(\"../data/transformed_df/pdef.csv\")\n",
    "\n",
    "    \n",
    "    # Display the result\n",
    "    return merged_df3\n",
    "\n"
   ]
  },
  {
   "cell_type": "code",
   "execution_count": 130,
   "metadata": {},
   "outputs": [
    {
     "name": "stdout",
     "output_type": "stream",
     "text": [
      "week           object\n",
      "max_emotion    object\n",
      "dtype: object\n"
     ]
    },
    {
     "data": {
      "text/html": [
       "<div>\n",
       "<style scoped>\n",
       "    .dataframe tbody tr th:only-of-type {\n",
       "        vertical-align: middle;\n",
       "    }\n",
       "\n",
       "    .dataframe tbody tr th {\n",
       "        vertical-align: top;\n",
       "    }\n",
       "\n",
       "    .dataframe thead th {\n",
       "        text-align: right;\n",
       "    }\n",
       "</style>\n",
       "<table border=\"1\" class=\"dataframe\">\n",
       "  <thead>\n",
       "    <tr style=\"text-align: right;\">\n",
       "      <th></th>\n",
       "      <th>date</th>\n",
       "      <th>time</th>\n",
       "      <th>emotions</th>\n",
       "      <th>max_emotion_day</th>\n",
       "      <th>max_emotion_week</th>\n",
       "      <th>next_month_emotion</th>\n",
       "    </tr>\n",
       "  </thead>\n",
       "  <tbody>\n",
       "    <tr>\n",
       "      <th>0</th>\n",
       "      <td>2017-04-24</td>\n",
       "      <td>00:35:19</td>\n",
       "      <td>9.0</td>\n",
       "      <td>17</td>\n",
       "      <td>8</td>\n",
       "      <td>17</td>\n",
       "    </tr>\n",
       "    <tr>\n",
       "      <th>1</th>\n",
       "      <td>2017-04-24</td>\n",
       "      <td>00:35:33</td>\n",
       "      <td>19.0</td>\n",
       "      <td>17</td>\n",
       "      <td>8</td>\n",
       "      <td>17</td>\n",
       "    </tr>\n",
       "    <tr>\n",
       "      <th>2</th>\n",
       "      <td>2017-04-24</td>\n",
       "      <td>00:35:42</td>\n",
       "      <td>8.0</td>\n",
       "      <td>17</td>\n",
       "      <td>8</td>\n",
       "      <td>17</td>\n",
       "    </tr>\n",
       "    <tr>\n",
       "      <th>3</th>\n",
       "      <td>2017-04-24</td>\n",
       "      <td>10:53:34</td>\n",
       "      <td>9.0</td>\n",
       "      <td>17</td>\n",
       "      <td>8</td>\n",
       "      <td>17</td>\n",
       "    </tr>\n",
       "    <tr>\n",
       "      <th>4</th>\n",
       "      <td>2017-04-24</td>\n",
       "      <td>10:53:37</td>\n",
       "      <td>8.0</td>\n",
       "      <td>17</td>\n",
       "      <td>8</td>\n",
       "      <td>17</td>\n",
       "    </tr>\n",
       "    <tr>\n",
       "      <th>...</th>\n",
       "      <td>...</td>\n",
       "      <td>...</td>\n",
       "      <td>...</td>\n",
       "      <td>...</td>\n",
       "      <td>...</td>\n",
       "      <td>...</td>\n",
       "    </tr>\n",
       "    <tr>\n",
       "      <th>96160</th>\n",
       "      <td>2023-10-31</td>\n",
       "      <td>10:32:52</td>\n",
       "      <td>19.0</td>\n",
       "      <td>19</td>\n",
       "      <td>9</td>\n",
       "      <td>9</td>\n",
       "    </tr>\n",
       "    <tr>\n",
       "      <th>96161</th>\n",
       "      <td>2023-10-31</td>\n",
       "      <td>10:34:27</td>\n",
       "      <td>19.0</td>\n",
       "      <td>19</td>\n",
       "      <td>9</td>\n",
       "      <td>9</td>\n",
       "    </tr>\n",
       "    <tr>\n",
       "      <th>96162</th>\n",
       "      <td>2023-10-31</td>\n",
       "      <td>19:42:34</td>\n",
       "      <td>6.0</td>\n",
       "      <td>19</td>\n",
       "      <td>9</td>\n",
       "      <td>9</td>\n",
       "    </tr>\n",
       "    <tr>\n",
       "      <th>96163</th>\n",
       "      <td>2023-10-31</td>\n",
       "      <td>19:42:40</td>\n",
       "      <td>4.0</td>\n",
       "      <td>19</td>\n",
       "      <td>9</td>\n",
       "      <td>9</td>\n",
       "    </tr>\n",
       "    <tr>\n",
       "      <th>96164</th>\n",
       "      <td>2023-10-31</td>\n",
       "      <td>19:42:48</td>\n",
       "      <td>6.0</td>\n",
       "      <td>19</td>\n",
       "      <td>9</td>\n",
       "      <td>9</td>\n",
       "    </tr>\n",
       "  </tbody>\n",
       "</table>\n",
       "<p>96165 rows × 6 columns</p>\n",
       "</div>"
      ],
      "text/plain": [
       "            date      time  emotions  max_emotion_day  max_emotion_week  \\\n",
       "0     2017-04-24  00:35:19       9.0               17                 8   \n",
       "1     2017-04-24  00:35:33      19.0               17                 8   \n",
       "2     2017-04-24  00:35:42       8.0               17                 8   \n",
       "3     2017-04-24  10:53:34       9.0               17                 8   \n",
       "4     2017-04-24  10:53:37       8.0               17                 8   \n",
       "...          ...       ...       ...              ...               ...   \n",
       "96160 2023-10-31  10:32:52      19.0               19                 9   \n",
       "96161 2023-10-31  10:34:27      19.0               19                 9   \n",
       "96162 2023-10-31  19:42:34       6.0               19                 9   \n",
       "96163 2023-10-31  19:42:40       4.0               19                 9   \n",
       "96164 2023-10-31  19:42:48       6.0               19                 9   \n",
       "\n",
       "       next_month_emotion  \n",
       "0                      17  \n",
       "1                      17  \n",
       "2                      17  \n",
       "3                      17  \n",
       "4                      17  \n",
       "...                   ...  \n",
       "96160                   9  \n",
       "96161                   9  \n",
       "96162                   9  \n",
       "96163                   9  \n",
       "96164                   9  \n",
       "\n",
       "[96165 rows x 6 columns]"
      ]
     },
     "execution_count": 130,
     "metadata": {},
     "output_type": "execute_result"
    }
   ],
   "source": [
    "pedf = predict_emotion_df(df)\n",
    "pedf"
   ]
  },
  {
   "cell_type": "code",
   "execution_count": 77,
   "metadata": {},
   "outputs": [
    {
     "data": {
      "text/plain": [
       "date                  0\n",
       "time                  0\n",
       "emotions              0\n",
       "max_emotion_day       0\n",
       "max_emotion_week      0\n",
       "next_month_emotion    0\n",
       "dtype: int64"
      ]
     },
     "execution_count": 77,
     "metadata": {},
     "output_type": "execute_result"
    }
   ],
   "source": [
    "pedf.isna().sum()"
   ]
  },
  {
   "cell_type": "markdown",
   "metadata": {},
   "source": [
    "## GET DATAFRAME TO UNKNOWN PREDICTION"
   ]
  },
  {
   "cell_type": "code",
   "execution_count": 131,
   "metadata": {},
   "outputs": [],
   "source": [
    "def final_emotion_df(df):\n",
    "\n",
    "    '''Function to get the dataframe with nans to the last messages to really predict the next month emotion.'''\n",
    "\n",
    "\n",
    "    df2 = df.copy()\n",
    "\n",
    "    df2['year'] = df2['date'].dt.year\n",
    "    df2['month'] = df2['date'].dt.month\n",
    "\n",
    "    # messages, only from the 7 days of every month\n",
    "    last_day_of_month = df2.groupby(['year', 'month'])['date'].max().reset_index()\n",
    "    last_day_of_month['last_7_days'] = last_day_of_month['date'] - pd.DateOffset(days=6)\n",
    "    last_day_of_month['last_7_days'] = last_day_of_month['last_7_days'].dt.date\n",
    "    result_df = pd.merge(df2, last_day_of_month, on=['year', 'month'], how='inner', suffixes=('', '_max'))\n",
    "    result_df = result_df[result_df['date'] >= result_df['last_7_days']]\n",
    "    result_df.drop(['year', 'month', 'date_max', 'last_7_days','name', 'ponderation', 'message'], axis=1, inplace = True)\n",
    "    result_df['week'] = result_df['date'].dt.to_period('M')\n",
    "    result_df.rename(columns={'week': 'month'}, inplace=True)\n",
    "\n",
    "    # days\n",
    "    df3 = day.copy()\n",
    "    df3.rename(columns={'max_emotion': 'max_emotion_day'}, inplace=True)\n",
    "    df3.drop(['day_of_week', 'end_day'], axis=1, inplace=True)\n",
    "    merged_df = pd.merge(result_df,df3, on='date', how='right')\n",
    "\n",
    "    # weeks\n",
    "    df4 = week.copy()\n",
    "    print(df4.dtypes)\n",
    "    df4['week'] = pd.to_datetime(df4['week'] + '-1', format='%Y-%U-%w')\n",
    "    df4['week'] = df4['week'].dt.to_period('M')\n",
    "    df4.rename(columns={'max_emotion': 'max_emotion_week'}, inplace=True)\n",
    "    df4.rename(columns={'week': 'month'}, inplace=True)\n",
    "    merged_df2 = pd.merge(merged_df, df4, on='month', how='right')\n",
    "\n",
    "    # month\n",
    "    df5 = month.copy()\n",
    "    df5.rename(columns={'max_emotion': 'next_month_emotion'}, inplace=True)   \n",
    "    merged_df2['month'] = merged_df2['month']+ 1 #+ pd.DateOffset(months=1)+ pd.DateOffset(days=1)\n",
    "    merged_df3 = pd.merge(merged_df2, df5, on='month', how='left', suffixes=('_merged_df2', '_df5'))\n",
    "\n",
    "    merged_df3['month'] = merged_df2['month']- 1\n",
    "    merged_df3.drop(['month','emotions_names'], axis=1, inplace = True)\n",
    "    merged_df3.dropna(subset=['date'], inplace = True)\n",
    "\n",
    "    merged_df3 = merged_df3.reset_index(drop=True)\n",
    "\n",
    "\n",
    "    # changing the words for numbers\n",
    "\n",
    "    emotions = {\"sadness\":1,\"joy\":2,\"fear\":3,\"anger\":4,\"surprise\":5,\"defensive\":6, \"nostalgia\":7,\"happiness\":8,\"stressed\":9,\n",
    "                \"expectant\":10,\"insecure\":11,\"assertivity\":12,\"neutral\":13,\"excitement\":14,\"comprehensive\":15,\n",
    "                \"helpless\":16,\"love\":17,\"disappointment\":18,\"doubtful\":19,\"picarona\":20}\n",
    "\n",
    "    columns_to_replace = [\"max_emotion_day\", \"max_emotion_week\", \"next_month_emotion\"]\n",
    "\n",
    "    for column in columns_to_replace:\n",
    "        merged_df3[column] = merged_df3[column].replace(emotions)\n",
    "\n",
    "\n",
    "\n",
    "    merged_df3.to_csv(\"../data/transformed_df/fdf.csv\")\n",
    "\n",
    "    \n",
    "    # Display the result\n",
    "    return merged_df3"
   ]
  },
  {
   "cell_type": "code",
   "execution_count": 132,
   "metadata": {},
   "outputs": [
    {
     "name": "stdout",
     "output_type": "stream",
     "text": [
      "week           object\n",
      "max_emotion    object\n",
      "dtype: object\n"
     ]
    },
    {
     "data": {
      "text/html": [
       "<div>\n",
       "<style scoped>\n",
       "    .dataframe tbody tr th:only-of-type {\n",
       "        vertical-align: middle;\n",
       "    }\n",
       "\n",
       "    .dataframe tbody tr th {\n",
       "        vertical-align: top;\n",
       "    }\n",
       "\n",
       "    .dataframe thead th {\n",
       "        text-align: right;\n",
       "    }\n",
       "</style>\n",
       "<table border=\"1\" class=\"dataframe\">\n",
       "  <thead>\n",
       "    <tr style=\"text-align: right;\">\n",
       "      <th></th>\n",
       "      <th>date</th>\n",
       "      <th>time</th>\n",
       "      <th>emotions</th>\n",
       "      <th>max_emotion_day</th>\n",
       "      <th>max_emotion_week</th>\n",
       "      <th>next_month_emotion</th>\n",
       "    </tr>\n",
       "  </thead>\n",
       "  <tbody>\n",
       "    <tr>\n",
       "      <th>0</th>\n",
       "      <td>2017-04-24</td>\n",
       "      <td>00:35:19</td>\n",
       "      <td>9.0</td>\n",
       "      <td>17</td>\n",
       "      <td>8</td>\n",
       "      <td>17.0</td>\n",
       "    </tr>\n",
       "    <tr>\n",
       "      <th>1</th>\n",
       "      <td>2017-04-24</td>\n",
       "      <td>00:35:33</td>\n",
       "      <td>19.0</td>\n",
       "      <td>17</td>\n",
       "      <td>8</td>\n",
       "      <td>17.0</td>\n",
       "    </tr>\n",
       "    <tr>\n",
       "      <th>2</th>\n",
       "      <td>2017-04-24</td>\n",
       "      <td>00:35:42</td>\n",
       "      <td>8.0</td>\n",
       "      <td>17</td>\n",
       "      <td>8</td>\n",
       "      <td>17.0</td>\n",
       "    </tr>\n",
       "    <tr>\n",
       "      <th>3</th>\n",
       "      <td>2017-04-24</td>\n",
       "      <td>10:53:34</td>\n",
       "      <td>9.0</td>\n",
       "      <td>17</td>\n",
       "      <td>8</td>\n",
       "      <td>17.0</td>\n",
       "    </tr>\n",
       "    <tr>\n",
       "      <th>4</th>\n",
       "      <td>2017-04-24</td>\n",
       "      <td>10:53:37</td>\n",
       "      <td>8.0</td>\n",
       "      <td>17</td>\n",
       "      <td>8</td>\n",
       "      <td>17.0</td>\n",
       "    </tr>\n",
       "    <tr>\n",
       "      <th>...</th>\n",
       "      <td>...</td>\n",
       "      <td>...</td>\n",
       "      <td>...</td>\n",
       "      <td>...</td>\n",
       "      <td>...</td>\n",
       "      <td>...</td>\n",
       "    </tr>\n",
       "    <tr>\n",
       "      <th>96536</th>\n",
       "      <td>2023-11-27</td>\n",
       "      <td>15:11:36</td>\n",
       "      <td>13.0</td>\n",
       "      <td>8</td>\n",
       "      <td>8</td>\n",
       "      <td>NaN</td>\n",
       "    </tr>\n",
       "    <tr>\n",
       "      <th>96537</th>\n",
       "      <td>2023-11-27</td>\n",
       "      <td>15:11:59</td>\n",
       "      <td>8.0</td>\n",
       "      <td>8</td>\n",
       "      <td>8</td>\n",
       "      <td>NaN</td>\n",
       "    </tr>\n",
       "    <tr>\n",
       "      <th>96538</th>\n",
       "      <td>2023-11-27</td>\n",
       "      <td>15:12:01</td>\n",
       "      <td>13.0</td>\n",
       "      <td>8</td>\n",
       "      <td>8</td>\n",
       "      <td>NaN</td>\n",
       "    </tr>\n",
       "    <tr>\n",
       "      <th>96539</th>\n",
       "      <td>2023-11-27</td>\n",
       "      <td>15:13:08</td>\n",
       "      <td>9.0</td>\n",
       "      <td>8</td>\n",
       "      <td>8</td>\n",
       "      <td>NaN</td>\n",
       "    </tr>\n",
       "    <tr>\n",
       "      <th>96540</th>\n",
       "      <td>2023-11-27</td>\n",
       "      <td>15:15:55</td>\n",
       "      <td>11.0</td>\n",
       "      <td>8</td>\n",
       "      <td>8</td>\n",
       "      <td>NaN</td>\n",
       "    </tr>\n",
       "  </tbody>\n",
       "</table>\n",
       "<p>96541 rows × 6 columns</p>\n",
       "</div>"
      ],
      "text/plain": [
       "            date      time  emotions  max_emotion_day  max_emotion_week  \\\n",
       "0     2017-04-24  00:35:19       9.0               17                 8   \n",
       "1     2017-04-24  00:35:33      19.0               17                 8   \n",
       "2     2017-04-24  00:35:42       8.0               17                 8   \n",
       "3     2017-04-24  10:53:34       9.0               17                 8   \n",
       "4     2017-04-24  10:53:37       8.0               17                 8   \n",
       "...          ...       ...       ...              ...               ...   \n",
       "96536 2023-11-27  15:11:36      13.0                8                 8   \n",
       "96537 2023-11-27  15:11:59       8.0                8                 8   \n",
       "96538 2023-11-27  15:12:01      13.0                8                 8   \n",
       "96539 2023-11-27  15:13:08       9.0                8                 8   \n",
       "96540 2023-11-27  15:15:55      11.0                8                 8   \n",
       "\n",
       "       next_month_emotion  \n",
       "0                    17.0  \n",
       "1                    17.0  \n",
       "2                    17.0  \n",
       "3                    17.0  \n",
       "4                    17.0  \n",
       "...                   ...  \n",
       "96536                 NaN  \n",
       "96537                 NaN  \n",
       "96538                 NaN  \n",
       "96539                 NaN  \n",
       "96540                 NaN  \n",
       "\n",
       "[96541 rows x 6 columns]"
      ]
     },
     "execution_count": 132,
     "metadata": {},
     "output_type": "execute_result"
    }
   ],
   "source": [
    "fdf = final_emotion_df(df)\n",
    "fdf"
   ]
  },
  {
   "cell_type": "code",
   "execution_count": 133,
   "metadata": {},
   "outputs": [
    {
     "data": {
      "text/plain": [
       "date                    0\n",
       "time                    0\n",
       "emotions                0\n",
       "max_emotion_day         0\n",
       "max_emotion_week        0\n",
       "next_month_emotion    376\n",
       "dtype: int64"
      ]
     },
     "execution_count": 133,
     "metadata": {},
     "output_type": "execute_result"
    }
   ],
   "source": [
    "fdf.isna().sum()"
   ]
  },
  {
   "cell_type": "markdown",
   "metadata": {},
   "source": [
    "## MACHINE LEARNING"
   ]
  },
  {
   "cell_type": "code",
   "execution_count": 111,
   "metadata": {},
   "outputs": [],
   "source": [
    "def pred_next_mont(df,model, test_size=0.2):\n",
    "\n",
    "    '''Function to find the best model to predict.'''\n",
    "\n",
    "    X = df.drop(columns=[\"next_month_emotion\", \"time\", \"date\"])\n",
    "    y = df[\"next_month_emotion\"]\n",
    "    \n",
    "    # 0. Train / test split\n",
    "    X_train, X_test, y_train, y_test = train_test_split(X, y, test_size = test_size)\n",
    "\n",
    "    model.fit(X_train,y_train)\n",
    "    y_pred = model.predict(X_test)\n",
    "\n",
    "    print(f\"------------notas------------\\n\")\n",
    "    print(f\"Precision: {metrics.precision_score(y_test, y_pred, average='weighted',zero_division=1):.4f}\")\n",
    "    print(f\"Recall: {metrics.recall_score(y_test, y_pred, average='weighted',zero_division=1):.4f}\")\n",
    "    print(f\"F1 Score: {metrics.f1_score(y_test, y_pred, average='weighted',zero_division=1):.4f}\")\n",
    "    print(\"\\n\")\n",
    "    "
   ]
  },
  {
   "cell_type": "code",
   "execution_count": 79,
   "metadata": {},
   "outputs": [
    {
     "name": "stdout",
     "output_type": "stream",
     "text": [
      "            date      time  emotions  max_emotion_day  max_emotion_week  \\\n",
      "0     2017-04-24  00:35:19       9.0               17                 8   \n",
      "1     2017-04-24  00:35:33      19.0               17                 8   \n",
      "2     2017-04-24  00:35:42       8.0               17                 8   \n",
      "3     2017-04-24  10:53:34       9.0               17                 8   \n",
      "4     2017-04-24  10:53:37       8.0               17                 8   \n",
      "...          ...       ...       ...              ...               ...   \n",
      "96160 2023-10-31  10:32:52      19.0               19                 9   \n",
      "96161 2023-10-31  10:34:27      19.0               19                 9   \n",
      "96162 2023-10-31  19:42:34       6.0               19                 9   \n",
      "96163 2023-10-31  19:42:40       4.0               19                 9   \n",
      "96164 2023-10-31  19:42:48       6.0               19                 9   \n",
      "\n",
      "       next_month_emotion  \n",
      "0                      17  \n",
      "1                      17  \n",
      "2                      17  \n",
      "3                      17  \n",
      "4                      17  \n",
      "...                   ...  \n",
      "96160                   9  \n",
      "96161                   9  \n",
      "96162                   9  \n",
      "96163                   9  \n",
      "96164                   9  \n",
      "\n",
      "[96165 rows x 6 columns]\n",
      "------------notas------------\n",
      "\n",
      "Precision: 0.5992\n",
      "Recall: 0.6392\n",
      "F1 Score: 0.5858\n",
      "\n",
      "\n"
     ]
    }
   ],
   "source": [
    "knei = pred_next_mont(pedf,KNeighborsClassifier(), test_size=0.2)"
   ]
  },
  {
   "cell_type": "code",
   "execution_count": 110,
   "metadata": {},
   "outputs": [
    {
     "name": "stdout",
     "output_type": "stream",
     "text": [
      "------------notas------------\n",
      "\n",
      "Precision: 0.6446\n",
      "Recall: 0.6612\n",
      "F1 Score: 0.5872\n",
      "\n",
      "\n"
     ]
    }
   ],
   "source": [
    "tree = pred_next_mont(pedf,DecisionTreeClassifier(splitter = 'best', min_samples_split= 10, min_samples_leaf= 5, max_depth= 50, criterion='entropy'), test_size=0.2)"
   ]
  },
  {
   "cell_type": "markdown",
   "metadata": {},
   "source": [
    "## APPLY MODEL TO DF"
   ]
  },
  {
   "cell_type": "code",
   "execution_count": 112,
   "metadata": {},
   "outputs": [],
   "source": [
    "emotions2 = {1: 'sadness',\n",
    " 2: 'joy',\n",
    " 3: 'fear',\n",
    " 4: 'anger',\n",
    " 5: 'surprise',\n",
    " 6: 'defensive',\n",
    " 7: 'nostalgia',\n",
    " 8: 'hapiness',\n",
    " 9: 'stressed',\n",
    " 10: 'expectant',\n",
    " 11: 'insecure',\n",
    " 12: 'assertivity',\n",
    " 13: 'neutral',\n",
    " 14: 'excitement',\n",
    " 15: 'comprehensive',\n",
    " 16: 'helpless',\n",
    " 17: 'love',\n",
    " 18: 'deception',\n",
    " 19: 'doubtful',\n",
    " 20: 'picarona'}"
   ]
  },
  {
   "cell_type": "code",
   "execution_count": 122,
   "metadata": {},
   "outputs": [],
   "source": [
    "def apply_pred(df,model, test_size=0.2):\n",
    "\n",
    "    '''Function to predict the next month emotion.'''\n",
    "\n",
    "    X = df.drop(columns=[\"next_month_emotion\", \"time\", \"date\"])\n",
    "    y = df[\"next_month_emotion\"]\n",
    "    \n",
    "    # 0. Train / test split\n",
    "    X_train, X_test, y_train, y_test = train_test_split(X, y, test_size = test_size)\n",
    "\n",
    "    model.fit(X_train,y_train)\n",
    "    y_pred = model.predict(X_test)\n",
    "\n",
    "    plot1 = sns.countplot(x = y_test)\n",
    "    plot2 = sns.countplot(x = y_pred)\n",
    "\n",
    "    return df, plot1, plot2\n"
   ]
  },
  {
   "cell_type": "code",
   "execution_count": 124,
   "metadata": {},
   "outputs": [
    {
     "data": {
      "image/png": "[encoded data removed]",
      "text/plain": [
       "<Figure size 640x480 with 1 Axes>"
      ]
     },
     "metadata": {},
     "output_type": "display_data"
    }
   ],
   "source": [
    "final = apply_pred(pedf,DecisionTreeClassifier(), test_size=0.2)"
   ]
  },
  {
   "cell_type": "markdown",
   "metadata": {},
   "source": [
    "A tableau o a streamlit fer que et surti la emocio...\n",
    "Trained a model to predict the next month emotion\n",
    "En el dataframe le entras las nuevas emociones de cada mensaje y lo hace"
   ]
  },
  {
   "cell_type": "markdown",
   "metadata": {},
   "source": [
    "## APPLY MODEL TO GET DECEMBER'S PREDICTION"
   ]
  },
  {
   "cell_type": "code",
   "execution_count": 178,
   "metadata": {},
   "outputs": [],
   "source": [
    "def final_pred(df,model, test_size=0.2):\n",
    "\n",
    "    '''Function to predict the next month emotion.'''\n",
    "\n",
    "    #test_size = fdf.next_month_emotion.isna().sum()/fdf.shape[0]*100\n",
    "    test_data =df.tail(376)\n",
    "    train_data = df.dropna(subset=['next_month_emotion'])\n",
    "\n",
    "    X = train_data.drop(columns=[\"next_month_emotion\", \"time\", \"date\"])\n",
    "    y = train_data[\"next_month_emotion\"]\n",
    "    \n",
    "    # 0. Train / test split\n",
    "    X_train, X_test, y_train, y_test = train_test_split(X, y, test_size = test_size)\n",
    "\n",
    "    model.fit(X_train,y_train)\n",
    "    y_pred = model.predict(X_test)\n",
    "\n",
    "    accuracy = accuracy_score(y_test, y_pred)\n",
    "    print(f'Model Accuracy: {accuracy}')\n",
    "\n",
    "    X_test = test_data.drop(columns=[\"next_month_emotion\", \"time\", \"date\"], axis=1)\n",
    "    y_test_pred = model.predict(X_test)\n",
    "\n",
    "    df.loc[df[\"next_month_emotion\"].tail(376), 'next_month_emotion'] = y_test_pred\n",
    "    \n",
    "    y_test_pred_int = y_test_pred.astype(int)\n",
    "\n",
    "    y_pred_names = [emotions2[i] for i in y_test_pred_int if i in emotions2]\n",
    "    \n",
    "    counter = Counter(y_pred_names)\n",
    "\n",
    "    print(f\"Looks like the next month your main emotion will be: {counter.most_common(1)[0][0]} \")\n",
    "\n",
    "\n",
    "    return df"
   ]
  },
  {
   "cell_type": "code",
   "execution_count": 143,
   "metadata": {},
   "outputs": [
    {
     "data": {
      "text/html": [
       "<div>\n",
       "<style scoped>\n",
       "    .dataframe tbody tr th:only-of-type {\n",
       "        vertical-align: middle;\n",
       "    }\n",
       "\n",
       "    .dataframe tbody tr th {\n",
       "        vertical-align: top;\n",
       "    }\n",
       "\n",
       "    .dataframe thead th {\n",
       "        text-align: right;\n",
       "    }\n",
       "</style>\n",
       "<table border=\"1\" class=\"dataframe\">\n",
       "  <thead>\n",
       "    <tr style=\"text-align: right;\">\n",
       "      <th></th>\n",
       "      <th>date</th>\n",
       "      <th>time</th>\n",
       "      <th>emotions</th>\n",
       "      <th>max_emotion_day</th>\n",
       "      <th>max_emotion_week</th>\n",
       "      <th>next_month_emotion</th>\n",
       "    </tr>\n",
       "  </thead>\n",
       "  <tbody>\n",
       "    <tr>\n",
       "      <th>0</th>\n",
       "      <td>2017-04-24</td>\n",
       "      <td>00:35:19</td>\n",
       "      <td>9.0</td>\n",
       "      <td>17</td>\n",
       "      <td>8</td>\n",
       "      <td>17.0</td>\n",
       "    </tr>\n",
       "    <tr>\n",
       "      <th>1</th>\n",
       "      <td>2017-04-24</td>\n",
       "      <td>00:35:33</td>\n",
       "      <td>19.0</td>\n",
       "      <td>17</td>\n",
       "      <td>8</td>\n",
       "      <td>17.0</td>\n",
       "    </tr>\n",
       "    <tr>\n",
       "      <th>2</th>\n",
       "      <td>2017-04-24</td>\n",
       "      <td>00:35:42</td>\n",
       "      <td>8.0</td>\n",
       "      <td>17</td>\n",
       "      <td>8</td>\n",
       "      <td>17.0</td>\n",
       "    </tr>\n",
       "    <tr>\n",
       "      <th>3</th>\n",
       "      <td>2017-04-24</td>\n",
       "      <td>10:53:34</td>\n",
       "      <td>9.0</td>\n",
       "      <td>17</td>\n",
       "      <td>8</td>\n",
       "      <td>17.0</td>\n",
       "    </tr>\n",
       "    <tr>\n",
       "      <th>4</th>\n",
       "      <td>2017-04-24</td>\n",
       "      <td>10:53:37</td>\n",
       "      <td>8.0</td>\n",
       "      <td>17</td>\n",
       "      <td>8</td>\n",
       "      <td>17.0</td>\n",
       "    </tr>\n",
       "    <tr>\n",
       "      <th>...</th>\n",
       "      <td>...</td>\n",
       "      <td>...</td>\n",
       "      <td>...</td>\n",
       "      <td>...</td>\n",
       "      <td>...</td>\n",
       "      <td>...</td>\n",
       "    </tr>\n",
       "    <tr>\n",
       "      <th>96536</th>\n",
       "      <td>2023-11-27</td>\n",
       "      <td>15:11:36</td>\n",
       "      <td>13.0</td>\n",
       "      <td>8</td>\n",
       "      <td>8</td>\n",
       "      <td>NaN</td>\n",
       "    </tr>\n",
       "    <tr>\n",
       "      <th>96537</th>\n",
       "      <td>2023-11-27</td>\n",
       "      <td>15:11:59</td>\n",
       "      <td>8.0</td>\n",
       "      <td>8</td>\n",
       "      <td>8</td>\n",
       "      <td>NaN</td>\n",
       "    </tr>\n",
       "    <tr>\n",
       "      <th>96538</th>\n",
       "      <td>2023-11-27</td>\n",
       "      <td>15:12:01</td>\n",
       "      <td>13.0</td>\n",
       "      <td>8</td>\n",
       "      <td>8</td>\n",
       "      <td>NaN</td>\n",
       "    </tr>\n",
       "    <tr>\n",
       "      <th>96539</th>\n",
       "      <td>2023-11-27</td>\n",
       "      <td>15:13:08</td>\n",
       "      <td>9.0</td>\n",
       "      <td>8</td>\n",
       "      <td>8</td>\n",
       "      <td>NaN</td>\n",
       "    </tr>\n",
       "    <tr>\n",
       "      <th>96540</th>\n",
       "      <td>2023-11-27</td>\n",
       "      <td>15:15:55</td>\n",
       "      <td>11.0</td>\n",
       "      <td>8</td>\n",
       "      <td>8</td>\n",
       "      <td>NaN</td>\n",
       "    </tr>\n",
       "  </tbody>\n",
       "</table>\n",
       "<p>96541 rows × 6 columns</p>\n",
       "</div>"
      ],
      "text/plain": [
       "            date      time  emotions  max_emotion_day  max_emotion_week  \\\n",
       "0     2017-04-24  00:35:19       9.0               17                 8   \n",
       "1     2017-04-24  00:35:33      19.0               17                 8   \n",
       "2     2017-04-24  00:35:42       8.0               17                 8   \n",
       "3     2017-04-24  10:53:34       9.0               17                 8   \n",
       "4     2017-04-24  10:53:37       8.0               17                 8   \n",
       "...          ...       ...       ...              ...               ...   \n",
       "96536 2023-11-27  15:11:36      13.0                8                 8   \n",
       "96537 2023-11-27  15:11:59       8.0                8                 8   \n",
       "96538 2023-11-27  15:12:01      13.0                8                 8   \n",
       "96539 2023-11-27  15:13:08       9.0                8                 8   \n",
       "96540 2023-11-27  15:15:55      11.0                8                 8   \n",
       "\n",
       "       next_month_emotion  \n",
       "0                    17.0  \n",
       "1                    17.0  \n",
       "2                    17.0  \n",
       "3                    17.0  \n",
       "4                    17.0  \n",
       "...                   ...  \n",
       "96536                 NaN  \n",
       "96537                 NaN  \n",
       "96538                 NaN  \n",
       "96539                 NaN  \n",
       "96540                 NaN  \n",
       "\n",
       "[96541 rows x 6 columns]"
      ]
     },
     "execution_count": 143,
     "metadata": {},
     "output_type": "execute_result"
    }
   ],
   "source": [
    "fdf"
   ]
  },
  {
   "cell_type": "code",
   "execution_count": 181,
   "metadata": {},
   "outputs": [
    {
     "name": "stdout",
     "output_type": "stream",
     "text": [
      "Model Accuracy: 0.6668910870578487\n",
      "Looks like the next month your main emotion will be: hapiness \n"
     ]
    }
   ],
   "source": [
    "next_mont_prediction_df = final_pred(fdf,DecisionTreeClassifier(), test_size=0.2)"
   ]
  },
  {
   "cell_type": "code",
   "execution_count": 187,
   "metadata": {},
   "outputs": [
    {
     "data": {
      "text/html": [
       "<div>\n",
       "<style scoped>\n",
       "    .dataframe tbody tr th:only-of-type {\n",
       "        vertical-align: middle;\n",
       "    }\n",
       "\n",
       "    .dataframe tbody tr th {\n",
       "        vertical-align: top;\n",
       "    }\n",
       "\n",
       "    .dataframe thead th {\n",
       "        text-align: right;\n",
       "    }\n",
       "</style>\n",
       "<table border=\"1\" class=\"dataframe\">\n",
       "  <thead>\n",
       "    <tr style=\"text-align: right;\">\n",
       "      <th></th>\n",
       "      <th>date</th>\n",
       "      <th>time</th>\n",
       "      <th>emotions</th>\n",
       "      <th>max_emotion_day</th>\n",
       "      <th>max_emotion_week</th>\n",
       "      <th>next_month_emotion</th>\n",
       "    </tr>\n",
       "  </thead>\n",
       "  <tbody>\n",
       "    <tr>\n",
       "      <th>0</th>\n",
       "      <td>2017-04-24</td>\n",
       "      <td>00:35:19</td>\n",
       "      <td>9.0</td>\n",
       "      <td>17</td>\n",
       "      <td>8</td>\n",
       "      <td>17.0</td>\n",
       "    </tr>\n",
       "    <tr>\n",
       "      <th>1</th>\n",
       "      <td>2017-04-24</td>\n",
       "      <td>00:35:33</td>\n",
       "      <td>19.0</td>\n",
       "      <td>17</td>\n",
       "      <td>8</td>\n",
       "      <td>17.0</td>\n",
       "    </tr>\n",
       "    <tr>\n",
       "      <th>2</th>\n",
       "      <td>2017-04-24</td>\n",
       "      <td>00:35:42</td>\n",
       "      <td>8.0</td>\n",
       "      <td>17</td>\n",
       "      <td>8</td>\n",
       "      <td>17.0</td>\n",
       "    </tr>\n",
       "    <tr>\n",
       "      <th>3</th>\n",
       "      <td>2017-04-24</td>\n",
       "      <td>10:53:34</td>\n",
       "      <td>9.0</td>\n",
       "      <td>17</td>\n",
       "      <td>8</td>\n",
       "      <td>17.0</td>\n",
       "    </tr>\n",
       "    <tr>\n",
       "      <th>4</th>\n",
       "      <td>2017-04-24</td>\n",
       "      <td>10:53:37</td>\n",
       "      <td>8.0</td>\n",
       "      <td>17</td>\n",
       "      <td>8</td>\n",
       "      <td>17.0</td>\n",
       "    </tr>\n",
       "    <tr>\n",
       "      <th>...</th>\n",
       "      <td>...</td>\n",
       "      <td>...</td>\n",
       "      <td>...</td>\n",
       "      <td>...</td>\n",
       "      <td>...</td>\n",
       "      <td>...</td>\n",
       "    </tr>\n",
       "    <tr>\n",
       "      <th>96536</th>\n",
       "      <td>2023-11-27</td>\n",
       "      <td>15:11:36</td>\n",
       "      <td>13.0</td>\n",
       "      <td>8</td>\n",
       "      <td>8</td>\n",
       "      <td>8.0</td>\n",
       "    </tr>\n",
       "    <tr>\n",
       "      <th>96537</th>\n",
       "      <td>2023-11-27</td>\n",
       "      <td>15:11:59</td>\n",
       "      <td>8.0</td>\n",
       "      <td>8</td>\n",
       "      <td>8</td>\n",
       "      <td>8.0</td>\n",
       "    </tr>\n",
       "    <tr>\n",
       "      <th>96538</th>\n",
       "      <td>2023-11-27</td>\n",
       "      <td>15:12:01</td>\n",
       "      <td>13.0</td>\n",
       "      <td>8</td>\n",
       "      <td>8</td>\n",
       "      <td>8.0</td>\n",
       "    </tr>\n",
       "    <tr>\n",
       "      <th>96539</th>\n",
       "      <td>2023-11-27</td>\n",
       "      <td>15:13:08</td>\n",
       "      <td>9.0</td>\n",
       "      <td>8</td>\n",
       "      <td>8</td>\n",
       "      <td>8.0</td>\n",
       "    </tr>\n",
       "    <tr>\n",
       "      <th>96540</th>\n",
       "      <td>2023-11-27</td>\n",
       "      <td>15:15:55</td>\n",
       "      <td>11.0</td>\n",
       "      <td>8</td>\n",
       "      <td>8</td>\n",
       "      <td>8.0</td>\n",
       "    </tr>\n",
       "  </tbody>\n",
       "</table>\n",
       "<p>96541 rows × 6 columns</p>\n",
       "</div>"
      ],
      "text/plain": [
       "            date      time  emotions  max_emotion_day  max_emotion_week  \\\n",
       "0     2017-04-24  00:35:19       9.0               17                 8   \n",
       "1     2017-04-24  00:35:33      19.0               17                 8   \n",
       "2     2017-04-24  00:35:42       8.0               17                 8   \n",
       "3     2017-04-24  10:53:34       9.0               17                 8   \n",
       "4     2017-04-24  10:53:37       8.0               17                 8   \n",
       "...          ...       ...       ...              ...               ...   \n",
       "96536 2023-11-27  15:11:36      13.0                8                 8   \n",
       "96537 2023-11-27  15:11:59       8.0                8                 8   \n",
       "96538 2023-11-27  15:12:01      13.0                8                 8   \n",
       "96539 2023-11-27  15:13:08       9.0                8                 8   \n",
       "96540 2023-11-27  15:15:55      11.0                8                 8   \n",
       "\n",
       "       next_month_emotion  \n",
       "0                    17.0  \n",
       "1                    17.0  \n",
       "2                    17.0  \n",
       "3                    17.0  \n",
       "4                    17.0  \n",
       "...                   ...  \n",
       "96536                 8.0  \n",
       "96537                 8.0  \n",
       "96538                 8.0  \n",
       "96539                 8.0  \n",
       "96540                 8.0  \n",
       "\n",
       "[96541 rows x 6 columns]"
      ]
     },
     "execution_count": 187,
     "metadata": {},
     "output_type": "execute_result"
    }
   ],
   "source": [
    "next_mont_prediction_df"
   ]
  },
  {
   "cell_type": "code",
   "execution_count": null,
   "metadata": {},
   "outputs": [],
   "source": []
  }
 ],
 "metadata": {
  "kernelspec": {
   "display_name": "ironhack",
   "language": "python",
   "name": "python3"
  },
  "language_info": {
   "codemirror_mode": {
    "name": "ipython",
    "version": 3
   },
   "file_extension": ".py",
   "mimetype": "text/x-python",
   "name": "python",
   "nbconvert_exporter": "python",
   "pygments_lexer": "ipython3",
   "version": "3.11.5"
  }
 },
 "nbformat": 4,
 "nbformat_minor": 2
}
